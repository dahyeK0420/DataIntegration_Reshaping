{
 "cells": [
  {
   "cell_type": "markdown",
   "metadata": {},
   "source": [
    "# FIT5196 Assessment 3: Data Integration and Reshaping\n",
    "#### Student Name: Dahye Kim\n",
    "#### Student ID: 31356508\n",
    "\n",
    "Date: 17/11/2020\n",
    "\n",
    "Version: 1.0\n",
    "\n",
    "Environment: Python 3 and Jupyter notebook\n",
    "\n",
    "Libraries used: please include the main libraries you used in your assignment here, e.g.,:\n",
    "* pandas \n",
    "    * Read and manipulate data frame\n",
    "* tabula \n",
    "    * parsing PDF files \n",
    "* xlrd \n",
    "    * parse excel files \n",
    "* bs4 \n",
    "    * ``BeautifulSoup`` \n",
    "    * parse HTML files\n",
    "* datetime \n",
    "    * ``timedelta``\n",
    "    * perform arithmetic operation on ``hh:mm:ss`` values, utilised for calculating travel duration\n",
    "* from math import radians, cos, sin, asin, sqrt \n",
    "    * calculate haversine distance between two locations using geographical coordinates\n",
    "* shapefile\n",
    "    * read shapefiles for geographical data \n",
    "* shapely.geometry\n",
    "    * ``Point``\n",
    "    * identify the coordinate points from the shapefile \n",
    "* shapely.geometry\n",
    "    * ``polygon.Polygon``\n",
    "    * retrieve the geographical coordinates to shape a Polygon \n",
    "* json \n",
    "    * read through json file and parse it as a dictionary format \n",
    "* xml.etree.ElementTree\n",
    "    * parse XML files \n",
    "* numpy \n",
    "    * advanced arithematic operations, applicable to timedelta variables, original form of NaNs from np.nan"
   ]
  },
  {
   "cell_type": "code",
   "execution_count": 1,
   "metadata": {},
   "outputs": [],
   "source": [
    "import pandas as pd \n",
    "import tabula\n",
    "from datetime import timedelta\n",
    "from math import radians, cos, sin, asin, sqrt, exp\n",
    "import shapefile\n",
    "from shapely.geometry import Point\n",
    "from shapely.geometry.polygon import Polygon\n",
    "import xlrd\n",
    "import os \n",
    "import json\n",
    "import xml.etree.ElementTree as ET\n",
    "import numpy as np\n",
    "from bs4 import BeautifulSoup\n",
    "from matplotlib import pyplot as plt \n",
    "from sklearn.linear_model import LinearRegression\n",
    "from sklearn import preprocessing \n",
    "from statsmodels.graphics.gofplots import qqplot"
   ]
  },
  {
   "cell_type": "markdown",
   "metadata": {},
   "source": [
    "# Introduction \n",
    "\n",
    "This program aims to collect data regarding features of properties in a dataset. The features include the suburb the property is located at, shortest distance to areas such as supermarket, train stations, shopping centres, and hospitals. It also includes the travel distance to the CBD Melbourne via the nearest station retrieved from given dataset. After completing the data set on the property, the program builds a model to predict the property price basd on its linear relationship with continuous variables in the dataset. The model aims to evaluate whether the property is overpriced in respect to its surrounding environments and features. "
   ]
  },
  {
   "cell_type": "markdown",
   "metadata": {},
   "source": [
    "## Part 1. Completing Real Estate Dataset \n",
    "\n",
    "To begin with, the program starts off by parsing the data set of each real eatates seperated into two datasets in different formats - ``json`` and ``xml``. The program first parses ``json`` and ``xml`` files in order to retrieve the data set regarding the given real estates. Two data sets retrieved then are concatenated horizontally based on common columns and their data types. After the concatenation, we check if the new data frame contains any duplicate rows or information. "
   ]
  },
  {
   "cell_type": "markdown",
   "metadata": {},
   "source": [
    "## 1.1 JSON Dataset \n",
    "\n",
    "``json`` data set is parsed using ``json`` library. ``json`` is a data set with a dictionary format. ``json.load()`` function returns a list of such dictionary - each dictionary represents each row, whose keys are the column name of the data frame, and the values are the matching values of each column in each row. The number of dictionaries within the lits is the number of observations in the data frame. To convert the list of dictionaries into a data frame, I craeted a dictionary whose keys are the column names of the data frame, and the values of each key is an empty list. This list holds the value of each column of each row while looping through each dictionary in the list returned by ``json.load()``. The dictionary is then converted into a data frame directly using ``pd.DataFrame()`` function."
   ]
  },
  {
   "cell_type": "code",
   "execution_count": 2,
   "metadata": {},
   "outputs": [],
   "source": [
    "estate1=json.load(open('real_state.json'))\n",
    "# loat the real_estate dataset in json format "
   ]
  },
  {
   "cell_type": "code",
   "execution_count": 3,
   "metadata": {},
   "outputs": [
    {
     "data": {
      "text/plain": [
       "{'property_id': 27243,\n",
       " 'lat': -37.586133,\n",
       " 'lng': 144.925823,\n",
       " 'addr_street': '53 Creekwood Drive',\n",
       " 'price': 7520000,\n",
       " 'property_type': 'house',\n",
       " 'year': 2010,\n",
       " 'bedrooms': 5,\n",
       " 'bathrooms': 2,\n",
       " 'parking_space': 2}"
      ]
     },
     "execution_count": 3,
     "metadata": {},
     "output_type": "execute_result"
    }
   ],
   "source": [
    "estate1[0]\n",
    "# briefly check the first row of the data frame s\n",
    "# the column names of the data frame are the keys in each dictionary"
   ]
  },
  {
   "cell_type": "code",
   "execution_count": 4,
   "metadata": {},
   "outputs": [
    {
     "name": "stdout",
     "output_type": "stream",
     "text": [
      "1010\n"
     ]
    }
   ],
   "source": [
    "print(len(estate1))\n",
    "# the data frame contains 1010 observations "
   ]
  },
  {
   "cell_type": "code",
   "execution_count": 5,
   "metadata": {},
   "outputs": [
    {
     "name": "stdout",
     "output_type": "stream",
     "text": [
      "There are 10 columns in the data set.\n",
      "The column names are: \n",
      " addr_street\n",
      "property_id\n",
      "parking_space\n",
      "bedrooms\n",
      "bathrooms\n",
      "price\n",
      "year\n",
      "lng\n",
      "lat\n",
      "property_type\n"
     ]
    }
   ],
   "source": [
    "estate1ColNames = set(estate1[0].keys())\n",
    "# each dictionary generated by json is a single-row data frame \n",
    "# the key of each dictionary is the column name of the data frame \n",
    "# retrieve the column name of the property data set\n",
    "print('There are',len(estate1ColNames),'columns in the data set.\\nThe column names are: \\n','\\n'.join(estate1ColNames))"
   ]
  },
  {
   "cell_type": "code",
   "execution_count": 6,
   "metadata": {},
   "outputs": [],
   "source": [
    "estate1Dict=dict()\n",
    "# the dictionary is utilised for generating readable data frame \n",
    "\n",
    "for colName in estate1ColNames:\n",
    "# loop through each column name retrieved from the json file \n",
    "\n",
    "    estate1Dict[colName] = []\n",
    "    # the list holds the value of each respective column \n",
    "    # the column name - list of respective values are the key-value pairs of estate1_dict \n",
    "    for i in range(len(estate1)):\n",
    "    # loop through all the dictionaries returned by json.load() function \n",
    "    # json.load() returns a list of dictionaries\n",
    "        estate1Dict[colName].append(estate1[i][colName])\n",
    "        # append each column value to the matching dictionary, whose keys are the column name"
   ]
  },
  {
   "cell_type": "code",
   "execution_count": 7,
   "metadata": {},
   "outputs": [],
   "source": [
    "estate1 = pd.DataFrame(estate1Dict)\n",
    "#convert the dictionary into data frame "
   ]
  },
  {
   "cell_type": "code",
   "execution_count": 8,
   "metadata": {},
   "outputs": [
    {
     "data": {
      "text/html": [
       "<div>\n",
       "<style scoped>\n",
       "    .dataframe tbody tr th:only-of-type {\n",
       "        vertical-align: middle;\n",
       "    }\n",
       "\n",
       "    .dataframe tbody tr th {\n",
       "        vertical-align: top;\n",
       "    }\n",
       "\n",
       "    .dataframe thead th {\n",
       "        text-align: right;\n",
       "    }\n",
       "</style>\n",
       "<table border=\"1\" class=\"dataframe\">\n",
       "  <thead>\n",
       "    <tr style=\"text-align: right;\">\n",
       "      <th></th>\n",
       "      <th>addr_street</th>\n",
       "      <th>property_id</th>\n",
       "      <th>parking_space</th>\n",
       "      <th>bedrooms</th>\n",
       "      <th>bathrooms</th>\n",
       "      <th>price</th>\n",
       "      <th>year</th>\n",
       "      <th>lng</th>\n",
       "      <th>lat</th>\n",
       "      <th>property_type</th>\n",
       "    </tr>\n",
       "  </thead>\n",
       "  <tbody>\n",
       "    <tr>\n",
       "      <th>0</th>\n",
       "      <td>53 Creekwood Drive</td>\n",
       "      <td>27243</td>\n",
       "      <td>2</td>\n",
       "      <td>5</td>\n",
       "      <td>2</td>\n",
       "      <td>7520000</td>\n",
       "      <td>2010</td>\n",
       "      <td>144.925823</td>\n",
       "      <td>-37.586133</td>\n",
       "      <td>house</td>\n",
       "    </tr>\n",
       "    <tr>\n",
       "      <th>1</th>\n",
       "      <td>7 Graham Street</td>\n",
       "      <td>4626</td>\n",
       "      <td>1</td>\n",
       "      <td>3</td>\n",
       "      <td>1</td>\n",
       "      <td>11509000</td>\n",
       "      <td>2010</td>\n",
       "      <td>144.867456</td>\n",
       "      <td>-37.839729</td>\n",
       "      <td>house</td>\n",
       "    </tr>\n",
       "    <tr>\n",
       "      <th>2</th>\n",
       "      <td>36 Linlithgow Street</td>\n",
       "      <td>59897</td>\n",
       "      <td>2</td>\n",
       "      <td>3</td>\n",
       "      <td>1</td>\n",
       "      <td>7048000</td>\n",
       "      <td>2014</td>\n",
       "      <td>145.204568</td>\n",
       "      <td>-37.822338</td>\n",
       "      <td>house</td>\n",
       "    </tr>\n",
       "    <tr>\n",
       "      <th>3</th>\n",
       "      <td>1a Lara Street</td>\n",
       "      <td>68890</td>\n",
       "      <td>2</td>\n",
       "      <td>3</td>\n",
       "      <td>2</td>\n",
       "      <td>15620000</td>\n",
       "      <td>2010</td>\n",
       "      <td>145.038746</td>\n",
       "      <td>-37.848827</td>\n",
       "      <td>house</td>\n",
       "    </tr>\n",
       "    <tr>\n",
       "      <th>4</th>\n",
       "      <td>7 Scott Street</td>\n",
       "      <td>14750</td>\n",
       "      <td>2</td>\n",
       "      <td>4</td>\n",
       "      <td>3</td>\n",
       "      <td>16200000</td>\n",
       "      <td>2012</td>\n",
       "      <td>144.908492</td>\n",
       "      <td>-37.756802</td>\n",
       "      <td>house</td>\n",
       "    </tr>\n",
       "  </tbody>\n",
       "</table>\n",
       "</div>"
      ],
      "text/plain": [
       "            addr_street  property_id  parking_space  bedrooms  bathrooms  \\\n",
       "0    53 Creekwood Drive        27243              2         5          2   \n",
       "1       7 Graham Street         4626              1         3          1   \n",
       "2  36 Linlithgow Street        59897              2         3          1   \n",
       "3        1a Lara Street        68890              2         3          2   \n",
       "4        7 Scott Street        14750              2         4          3   \n",
       "\n",
       "      price  year         lng        lat property_type  \n",
       "0   7520000  2010  144.925823 -37.586133         house  \n",
       "1  11509000  2010  144.867456 -37.839729         house  \n",
       "2   7048000  2014  145.204568 -37.822338         house  \n",
       "3  15620000  2010  145.038746 -37.848827         house  \n",
       "4  16200000  2012  144.908492 -37.756802         house  "
      ]
     },
     "execution_count": 8,
     "metadata": {},
     "output_type": "execute_result"
    }
   ],
   "source": [
    "estate1.head()\n",
    "# data set is retrieved in a correct data frame format"
   ]
  },
  {
   "cell_type": "markdown",
   "metadata": {},
   "source": [
    "### 1.2 XML Dataset\n",
    "\n",
    "For the dataset stored in XML format, I parsed it with ``xml.etree.ElementTree`` library. The XML dataset is stored in a tree format - the root is the entire data frame, and the nodes right below the root are the columns. Each column has numbers of child nodes, in this case, each observation. The ``xml`` file is first read in as a string variable, and is then parsed with ``fromstring()`` function. Similar to the parsing method with ``json`` file, I created a dictionary, whose keys are the column names, and the values to each key is the observation in each column. After filling in all the values from the string, the dictionary is converted into a dataframe using ``DataFrame()`` function. "
   ]
  },
  {
   "cell_type": "code",
   "execution_count": 9,
   "metadata": {},
   "outputs": [],
   "source": [
    "a =open('real_state.xml').read()\n",
    "# read the xml file as a string\n",
    "root=ET.fromstring(a)\n",
    "# parse through the xml string "
   ]
  },
  {
   "cell_type": "code",
   "execution_count": 10,
   "metadata": {},
   "outputs": [],
   "source": [
    "estate2ColNames = [child.tag for child in root]\n",
    "# each tag of the child node directly under the root is the column name \n",
    "\n",
    "rowNo=len(root[1][:])\n",
    "# the length of each child node is identical\n",
    "# to avoid omitting repetitive values in the column, I used list for counting the number \n",
    "# of rows in the original data frame "
   ]
  },
  {
   "cell_type": "code",
   "execution_count": 11,
   "metadata": {},
   "outputs": [],
   "source": [
    "estate2Dict = dict()\n",
    "# the dictionary is utilised for generating readable data frame \n",
    "\n",
    "for colIndex in range(len(estate2ColNames)): \n",
    "# loop through each column using the column index \n",
    "    estate2Dict[estate2ColNames[colIndex]]=\\\n",
    "    [root[colIndex][rowIndex].text for rowIndex in range(rowNo)]\n",
    "    # the dictionary holds column name - values key-value pair \n",
    "    # the column name is already retrieved using child.tag attribute \n",
    "    # loop through each row using row index\n",
    "    # retrieving the value of each cell - [i] is the column index, [x] is the row index \n",
    "    # convert the retrieved cell into a readable format using .text attribute \n",
    "    \n",
    "estate2=pd.DataFrame(estate2Dict)\n",
    "# convert the dictionary into a data frame"
   ]
  },
  {
   "cell_type": "code",
   "execution_count": 12,
   "metadata": {},
   "outputs": [
    {
     "data": {
      "text/html": [
       "<div>\n",
       "<style scoped>\n",
       "    .dataframe tbody tr th:only-of-type {\n",
       "        vertical-align: middle;\n",
       "    }\n",
       "\n",
       "    .dataframe tbody tr th {\n",
       "        vertical-align: top;\n",
       "    }\n",
       "\n",
       "    .dataframe thead th {\n",
       "        text-align: right;\n",
       "    }\n",
       "</style>\n",
       "<table border=\"1\" class=\"dataframe\">\n",
       "  <thead>\n",
       "    <tr style=\"text-align: right;\">\n",
       "      <th></th>\n",
       "      <th>property_id</th>\n",
       "      <th>lat</th>\n",
       "      <th>lng</th>\n",
       "      <th>addr_street</th>\n",
       "      <th>price</th>\n",
       "      <th>property_type</th>\n",
       "      <th>year</th>\n",
       "      <th>bedrooms</th>\n",
       "      <th>bathrooms</th>\n",
       "      <th>parking_space</th>\n",
       "    </tr>\n",
       "  </thead>\n",
       "  <tbody>\n",
       "    <tr>\n",
       "      <th>0</th>\n",
       "      <td>71305</td>\n",
       "      <td>-37.85139465</td>\n",
       "      <td>145.2424622</td>\n",
       "      <td>22 Greenock Crescent</td>\n",
       "      <td>5733000</td>\n",
       "      <td>house</td>\n",
       "      <td>2007</td>\n",
       "      <td>4</td>\n",
       "      <td>2</td>\n",
       "      <td>1</td>\n",
       "    </tr>\n",
       "    <tr>\n",
       "      <th>1</th>\n",
       "      <td>70908</td>\n",
       "      <td>-37.891133</td>\n",
       "      <td>145.106282</td>\n",
       "      <td>88 Oakpark Drive</td>\n",
       "      <td>12180000</td>\n",
       "      <td>house</td>\n",
       "      <td>2013</td>\n",
       "      <td>4</td>\n",
       "      <td>2</td>\n",
       "      <td>2</td>\n",
       "    </tr>\n",
       "    <tr>\n",
       "      <th>2</th>\n",
       "      <td>14081</td>\n",
       "      <td>-37.75450516</td>\n",
       "      <td>144.9260407</td>\n",
       "      <td>216 Pascoe Vale Road</td>\n",
       "      <td>9590000</td>\n",
       "      <td>house</td>\n",
       "      <td>2009</td>\n",
       "      <td>4</td>\n",
       "      <td>2</td>\n",
       "      <td>2</td>\n",
       "    </tr>\n",
       "    <tr>\n",
       "      <th>3</th>\n",
       "      <td>33241</td>\n",
       "      <td>-37.73219299</td>\n",
       "      <td>145.0182648</td>\n",
       "      <td>86 Rene Street</td>\n",
       "      <td>5200000</td>\n",
       "      <td>house</td>\n",
       "      <td>2008</td>\n",
       "      <td>2</td>\n",
       "      <td>1</td>\n",
       "      <td>1</td>\n",
       "    </tr>\n",
       "    <tr>\n",
       "      <th>4</th>\n",
       "      <td>66413</td>\n",
       "      <td>-37.778123</td>\n",
       "      <td>145.32951599999998</td>\n",
       "      <td>44 Greenslopes Drive</td>\n",
       "      <td>5850000</td>\n",
       "      <td>house</td>\n",
       "      <td>2010</td>\n",
       "      <td>3</td>\n",
       "      <td>1</td>\n",
       "      <td>1</td>\n",
       "    </tr>\n",
       "  </tbody>\n",
       "</table>\n",
       "</div>"
      ],
      "text/plain": [
       "  property_id           lat                 lng           addr_street  \\\n",
       "0       71305  -37.85139465         145.2424622  22 Greenock Crescent   \n",
       "1       70908    -37.891133          145.106282      88 Oakpark Drive   \n",
       "2       14081  -37.75450516         144.9260407  216 Pascoe Vale Road   \n",
       "3       33241  -37.73219299         145.0182648        86 Rene Street   \n",
       "4       66413    -37.778123  145.32951599999998  44 Greenslopes Drive   \n",
       "\n",
       "      price property_type  year bedrooms bathrooms parking_space  \n",
       "0   5733000         house  2007        4         2             1  \n",
       "1  12180000         house  2013        4         2             2  \n",
       "2   9590000         house  2009        4         2             2  \n",
       "3   5200000         house  2008        2         1             1  \n",
       "4   5850000         house  2010        3         1             1  "
      ]
     },
     "execution_count": 12,
     "metadata": {},
     "output_type": "execute_result"
    }
   ],
   "source": [
    "estate2.head()"
   ]
  },
  {
   "cell_type": "markdown",
   "metadata": {},
   "source": [
    "### 1.3 Concatenate and Remove Duplicates\n",
    "\n",
    "Two data sets above shares the same attribute and same types of domain in each attribute. The concatenation is therefore applied using ``pd.concat`` function. Assuming that each property is assigned with a unique ``property_id``, the duplicate rows are filtered based on the ``property_id`` attribute."
   ]
  },
  {
   "cell_type": "code",
   "execution_count": 13,
   "metadata": {},
   "outputs": [],
   "source": [
    "estate =pd.concat([estate1, estate2])\n",
    "# concatenate the data frame parsed from json and xml files "
   ]
  },
  {
   "cell_type": "code",
   "execution_count": 14,
   "metadata": {},
   "outputs": [
    {
     "data": {
      "text/plain": [
       "array([72839, 48895, 47487], dtype=object)"
      ]
     },
     "execution_count": 14,
     "metadata": {},
     "output_type": "execute_result"
    }
   ],
   "source": [
    "dup_estate = estate[estate.duplicated(['property_id'], keep = False)]\n",
    "# the duplicate rows in the concatenated data frame \n",
    "pd.unique(dup_estate['property_id'])\n",
    "# the property ids that were duplicated "
   ]
  },
  {
   "cell_type": "code",
   "execution_count": 15,
   "metadata": {},
   "outputs": [
    {
     "data": {
      "text/html": [
       "<div>\n",
       "<style scoped>\n",
       "    .dataframe tbody tr th:only-of-type {\n",
       "        vertical-align: middle;\n",
       "    }\n",
       "\n",
       "    .dataframe tbody tr th {\n",
       "        vertical-align: top;\n",
       "    }\n",
       "\n",
       "    .dataframe thead th {\n",
       "        text-align: right;\n",
       "    }\n",
       "</style>\n",
       "<table border=\"1\" class=\"dataframe\">\n",
       "  <thead>\n",
       "    <tr style=\"text-align: right;\">\n",
       "      <th></th>\n",
       "      <th>addr_street</th>\n",
       "      <th>property_id</th>\n",
       "      <th>parking_space</th>\n",
       "      <th>bedrooms</th>\n",
       "      <th>bathrooms</th>\n",
       "      <th>price</th>\n",
       "      <th>year</th>\n",
       "      <th>lng</th>\n",
       "      <th>lat</th>\n",
       "      <th>property_type</th>\n",
       "    </tr>\n",
       "  </thead>\n",
       "  <tbody>\n",
       "    <tr>\n",
       "      <th>316</th>\n",
       "      <td>11 Battalion Court</td>\n",
       "      <td>72839</td>\n",
       "      <td>2</td>\n",
       "      <td>3</td>\n",
       "      <td>1</td>\n",
       "      <td>4620000</td>\n",
       "      <td>2015</td>\n",
       "      <td>145.289</td>\n",
       "      <td>-37.8416</td>\n",
       "      <td>house</td>\n",
       "    </tr>\n",
       "    <tr>\n",
       "      <th>632</th>\n",
       "      <td>1/9 Mangan Street</td>\n",
       "      <td>48895</td>\n",
       "      <td>2</td>\n",
       "      <td>3</td>\n",
       "      <td>2</td>\n",
       "      <td>23360000</td>\n",
       "      <td>2013</td>\n",
       "      <td>145.082</td>\n",
       "      <td>-37.812</td>\n",
       "      <td>house</td>\n",
       "    </tr>\n",
       "    <tr>\n",
       "      <th>830</th>\n",
       "      <td>11 Battalion Court</td>\n",
       "      <td>72839</td>\n",
       "      <td>2</td>\n",
       "      <td>3</td>\n",
       "      <td>1</td>\n",
       "      <td>4620000</td>\n",
       "      <td>2015</td>\n",
       "      <td>145.289</td>\n",
       "      <td>-37.8416</td>\n",
       "      <td>house</td>\n",
       "    </tr>\n",
       "    <tr>\n",
       "      <th>837</th>\n",
       "      <td>1/9 Mangan Street</td>\n",
       "      <td>48895</td>\n",
       "      <td>2</td>\n",
       "      <td>3</td>\n",
       "      <td>2</td>\n",
       "      <td>23360000</td>\n",
       "      <td>2013</td>\n",
       "      <td>145.082</td>\n",
       "      <td>-37.812</td>\n",
       "      <td>house</td>\n",
       "    </tr>\n",
       "    <tr>\n",
       "      <th>947</th>\n",
       "      <td>71 Bridge Street</td>\n",
       "      <td>47487</td>\n",
       "      <td>1</td>\n",
       "      <td>2</td>\n",
       "      <td>1</td>\n",
       "      <td>8330000</td>\n",
       "      <td>2011</td>\n",
       "      <td>145.147</td>\n",
       "      <td>-37.7188</td>\n",
       "      <td>house</td>\n",
       "    </tr>\n",
       "    <tr>\n",
       "      <th>977</th>\n",
       "      <td>71 Bridge Street</td>\n",
       "      <td>47487</td>\n",
       "      <td>1</td>\n",
       "      <td>2</td>\n",
       "      <td>1</td>\n",
       "      <td>8330000</td>\n",
       "      <td>2011</td>\n",
       "      <td>145.147</td>\n",
       "      <td>-37.7188</td>\n",
       "      <td>house</td>\n",
       "    </tr>\n",
       "  </tbody>\n",
       "</table>\n",
       "</div>"
      ],
      "text/plain": [
       "            addr_street property_id parking_space bedrooms bathrooms  \\\n",
       "316  11 Battalion Court       72839             2        3         1   \n",
       "632   1/9 Mangan Street       48895             2        3         2   \n",
       "830  11 Battalion Court       72839             2        3         1   \n",
       "837   1/9 Mangan Street       48895             2        3         2   \n",
       "947    71 Bridge Street       47487             1        2         1   \n",
       "977    71 Bridge Street       47487             1        2         1   \n",
       "\n",
       "        price  year      lng      lat property_type  \n",
       "316   4620000  2015  145.289 -37.8416         house  \n",
       "632  23360000  2013  145.082  -37.812         house  \n",
       "830   4620000  2015  145.289 -37.8416         house  \n",
       "837  23360000  2013  145.082  -37.812         house  \n",
       "947   8330000  2011  145.147 -37.7188         house  \n",
       "977   8330000  2011  145.147 -37.7188         house  "
      ]
     },
     "execution_count": 15,
     "metadata": {},
     "output_type": "execute_result"
    }
   ],
   "source": [
    "dup_estate\n",
    "# duplicated data set \n",
    "# every second row is a duplicate"
   ]
  },
  {
   "cell_type": "code",
   "execution_count": 16,
   "metadata": {},
   "outputs": [],
   "source": [
    "estate.drop(estate.index[[316,632,947]], inplace = True)\n",
    "# retrieve the index of every second row from the duplicated set of data \n",
    "# drop the matching row from the original data set"
   ]
  },
  {
   "cell_type": "code",
   "execution_count": 17,
   "metadata": {},
   "outputs": [],
   "source": [
    "estate.reset_index(inplace = True, drop = True)\n",
    "# reset the row index after dropping duplicate rows "
   ]
  },
  {
   "cell_type": "code",
   "execution_count": 18,
   "metadata": {},
   "outputs": [],
   "source": [
    "estate['lat']=estate['lat'].apply(lambda x: float(x))\n",
    "# convert the values in the latitude column into floating values \n",
    "estate['lng']=estate['lng'].apply(lambda x: float(x))\n",
    "# convert the values in the longitude column into floating values "
   ]
  },
  {
   "cell_type": "markdown",
   "metadata": {},
   "source": [
    "### 1.4 Add Columns and Set Default Values"
   ]
  },
  {
   "cell_type": "code",
   "execution_count": 19,
   "metadata": {},
   "outputs": [],
   "source": [
    "estate['Shopping_center_id'] = 'not available'\n",
    "estate['Train_station_id'] =0\n",
    "estate['Distance_to_sc']=0\n",
    "estate['travel_min_to_CBD']=0\n",
    "estate['Transfer_flag']=-1\n",
    "estate['Hospital_id'] = 'not available'\n",
    "estate['Distance_to_hospital']=0\n",
    "estate['Supermarket_id'] = 'not available'\n",
    "estate['Distance_to_supermarket']=0\n",
    "estate['Distance_to_train_station']=0"
   ]
  },
  {
   "cell_type": "markdown",
   "metadata": {},
   "source": [
    "## Part 2. Calculating the Distance between the Property and a Location\n",
    "\n",
    "Four locations are considered for each property - supermarket, shopping centre, hospital, and train station. The information on the geographical coordinate and its ID are given in different formats, and thus they are all parsed using different libraries and functions. \n",
    "\n",
    "After parsing the data sets of each location, I looked for the nearest location to each property and the distance between them in order to fill in respective columns. The distance is calculated using ``haversine`` distance, and the nearest location to the property is calculated using ``DistanceCalc`` function below. The ``DistanceCalc`` function calculates the distance between all properties and a location given and returns a data frame composed of the nearest location ID and the distance between the location and the property. The returned data frame from this function directly replaced the respective columns."
   ]
  },
  {
   "cell_type": "code",
   "execution_count": 20,
   "metadata": {},
   "outputs": [],
   "source": [
    "def haversine(lon1, lat1, lon2, lat2):\n",
    "    \"\"\"\n",
    "    Calculate the great circle distance between two points \n",
    "    on the earth (specified in decimal degrees)\n",
    "    \"\"\"\n",
    "    # convert decimal degrees to radians \n",
    "    lon1, lat1, lon2, lat2 = map(radians, [lon1, lat1, lon2, lat2])\n",
    "\n",
    "    # haversine formula \n",
    "    dlon = lon2 - lon1 \n",
    "    dlat = lat2 - lat1 \n",
    "    a = sin(dlat/2)**2 + cos(lat1) * cos(lat2) * sin(dlon/2)**2\n",
    "    c = 2 * asin(sqrt(a)) \n",
    "    r = 6378 # Radius of earth in kilometers. Use 3956 for miles\n",
    "    return c * r"
   ]
  },
  {
   "cell_type": "code",
   "execution_count": 21,
   "metadata": {},
   "outputs": [],
   "source": [
    "def DistanceCalc(idcol, latcol, loncol, df):\n",
    "\n",
    "    '''\n",
    "    This function calculates the distance between all properties and a location \n",
    "    given and returns a data frame composed of the nearest location ID and the \n",
    "    distance between the location and the property. The function takes four\n",
    "    input parameters: \n",
    "\n",
    "    idcol - the column name of the location ID \n",
    "    latcol - the column name of the location latitude \n",
    "    loncol - the column name of the location longitude \n",
    "    df - the data frame composed of the information regarding the location\n",
    "    '''\n",
    "    lst = []\n",
    "\n",
    "    for i in range(estate.shape[0]): \n",
    "    # iterate through every single row of the estate data frame, each property \n",
    "\n",
    "        lat = estate.loc[i,'lat']\n",
    "        # latitude of the property \n",
    "        long = estate.loc[i, 'lng']\n",
    "        # longitude of the property \n",
    "        distToProp = dict()\n",
    "        # the dictionary that stores the distance between the property and every single \n",
    "        # location coordinates from the input data frame df \n",
    "\n",
    "        for x in range(df.shape[0]): \n",
    "        # loop through the df, each and every location specified\n",
    "        \n",
    "            stopID = df.loc[x, idcol]\n",
    "            # the ID of each location \n",
    "            stopLat = df.loc[x, latcol]\n",
    "            # the latitude of each location \n",
    "            stopLon = df.loc[x, loncol]\n",
    "            # the longitude of each station\n",
    "\n",
    "            distToProp[stopID] = round(haversine(long, lat, stopLon, stopLat)*1000)\n",
    "            # calculate the haversine distance using haversine function and coordinates of\n",
    "            # each location and the property in loop \n",
    "            # the distance is stored in the dictionary with the matching location ID as the \n",
    "            # key to the distance \n",
    "            # the unit of the returned value should be in meters\n",
    "            \n",
    "        lst.append(distToProp)\n",
    "        # the dictionary of each property with the distance of all the locations are stored \n",
    "        # in the list called lst. This is for maintaining the order of the estate data frame \n",
    "        \n",
    "    trainDist = pd.DataFrame(lst)\n",
    "    # transform the list with all the dictionary into a data frame\n",
    "    # the data frame's column is the ID of the location input \n",
    "    # each row represent each property, the single cell of each row and column is the distance \n",
    "    # between the respective property and location \n",
    "    \n",
    "    trainDist = pd.concat([trainDist.min(axis =1),trainDist.idxmin(axis=1)], axis =1)\n",
    "    # .min(axis=1) returns the minimum value of each row, in this case, the shortest \n",
    "    # distance from a location to the property \n",
    "    # .idxmin(axis =1) returns the column name whose row is the lowest in respect to other \n",
    "    # columns. In this case, is the location ID\n",
    "    trainDist.columns = ['distance','ID']\n",
    "    # assign column names to the data frame\n",
    "    # trainDist data frame is returned by the function at the end. \n",
    "    # the data frame contains the nearest location ID to the property and the distance \n",
    "    # between the forementioned places. \n",
    "\n",
    "    return trainDist       "
   ]
  },
  {
   "cell_type": "markdown",
   "metadata": {},
   "source": [
    "### 2.1 Hospitals\n",
    "\n",
    "The data frame on the coordinates and relavant information on hospitals were stored in a ``pdf`` format. I used ``tabula`` library to parse this data frame. "
   ]
  },
  {
   "cell_type": "code",
   "execution_count": 22,
   "metadata": {},
   "outputs": [],
   "source": [
    "hospitals = tabula.read_pdf('hospitals.pdf', pages = 1)[0]\n",
    "# the data frame with the geographical information of the hopsitals is the only table in the first page of the pdf "
   ]
  },
  {
   "cell_type": "code",
   "execution_count": 23,
   "metadata": {},
   "outputs": [
    {
     "data": {
      "text/html": [
       "<div>\n",
       "<style scoped>\n",
       "    .dataframe tbody tr th:only-of-type {\n",
       "        vertical-align: middle;\n",
       "    }\n",
       "\n",
       "    .dataframe tbody tr th {\n",
       "        vertical-align: top;\n",
       "    }\n",
       "\n",
       "    .dataframe thead th {\n",
       "        text-align: right;\n",
       "    }\n",
       "</style>\n",
       "<table border=\"1\" class=\"dataframe\">\n",
       "  <thead>\n",
       "    <tr style=\"text-align: right;\">\n",
       "      <th></th>\n",
       "      <th>Unnamed: 0</th>\n",
       "      <th>id</th>\n",
       "      <th>lat</th>\n",
       "      <th>lng</th>\n",
       "      <th>name</th>\n",
       "    </tr>\n",
       "  </thead>\n",
       "  <tbody>\n",
       "    <tr>\n",
       "      <th>0</th>\n",
       "      <td>0</td>\n",
       "      <td>hospital_001</td>\n",
       "      <td>-37.990622</td>\n",
       "      <td>145.072836</td>\n",
       "      <td>Como Private Hospital</td>\n",
       "    </tr>\n",
       "    <tr>\n",
       "      <th>1</th>\n",
       "      <td>1</td>\n",
       "      <td>hospital_002</td>\n",
       "      <td>-37.855469</td>\n",
       "      <td>145.268183</td>\n",
       "      <td>Mountain District Private Hospital</td>\n",
       "    </tr>\n",
       "    <tr>\n",
       "      <th>2</th>\n",
       "      <td>2</td>\n",
       "      <td>hospital_003</td>\n",
       "      <td>-37.792230</td>\n",
       "      <td>144.889128</td>\n",
       "      <td>Western Hospital</td>\n",
       "    </tr>\n",
       "    <tr>\n",
       "      <th>3</th>\n",
       "      <td>3</td>\n",
       "      <td>hospital_004</td>\n",
       "      <td>-37.756042</td>\n",
       "      <td>145.061896</td>\n",
       "      <td>Mercy Hospital for Women</td>\n",
       "    </tr>\n",
       "    <tr>\n",
       "      <th>4</th>\n",
       "      <td>4</td>\n",
       "      <td>hospital_005</td>\n",
       "      <td>-37.760623</td>\n",
       "      <td>144.815624</td>\n",
       "      <td>Sunshine Hospital</td>\n",
       "    </tr>\n",
       "  </tbody>\n",
       "</table>\n",
       "</div>"
      ],
      "text/plain": [
       "   Unnamed: 0            id        lat         lng  \\\n",
       "0           0  hospital_001 -37.990622  145.072836   \n",
       "1           1  hospital_002 -37.855469  145.268183   \n",
       "2           2  hospital_003 -37.792230  144.889128   \n",
       "3           3  hospital_004 -37.756042  145.061896   \n",
       "4           4  hospital_005 -37.760623  144.815624   \n",
       "\n",
       "                                 name  \n",
       "0               Como Private Hospital  \n",
       "1  Mountain District Private Hospital  \n",
       "2                    Western Hospital  \n",
       "3            Mercy Hospital for Women  \n",
       "4                   Sunshine Hospital  "
      ]
     },
     "execution_count": 23,
     "metadata": {},
     "output_type": "execute_result"
    }
   ],
   "source": [
    "hospitals.head()\n",
    "# the parameters eneded for DistanceCalc are lat, lng, and id"
   ]
  },
  {
   "cell_type": "code",
   "execution_count": 24,
   "metadata": {},
   "outputs": [],
   "source": [
    "minHosp = DistanceCalc('id', 'lat', 'lng', hospitals)\n",
    "# minHosp is a dataframe, composed of the distance between each property and the nearest hospital"
   ]
  },
  {
   "cell_type": "code",
   "execution_count": 25,
   "metadata": {},
   "outputs": [],
   "source": [
    "estate.Distance_to_hospital= minHosp.distance\n",
    "# fill the distance to hospital values to respective properties \n",
    "estate.Hospital_id = minHosp.ID\n",
    "# fill the ID of the nearst hospital to each property "
   ]
  },
  {
   "cell_type": "code",
   "execution_count": 26,
   "metadata": {},
   "outputs": [
    {
     "data": {
      "text/plain": [
       "Series([], Name: Hospital_id, dtype: object)"
      ]
     },
     "execution_count": 26,
     "metadata": {},
     "output_type": "execute_result"
    }
   ],
   "source": [
    "estate.Hospital_id[estate.Hospital_id.isna()]\n",
    "# all properties are assigned with a nearest hospital "
   ]
  },
  {
   "cell_type": "code",
   "execution_count": 27,
   "metadata": {},
   "outputs": [
    {
     "data": {
      "text/plain": [
       "Series([], Name: Distance_to_hospital, dtype: int64)"
      ]
     },
     "execution_count": 27,
     "metadata": {},
     "output_type": "execute_result"
    }
   ],
   "source": [
    "estate.Distance_to_hospital[estate.Hospital_id.isna()]\n",
    "# all properties are assigned with a nearest hospital, and the distance between two locations are calculated without \n",
    "# missing values "
   ]
  },
  {
   "cell_type": "code",
   "execution_count": 28,
   "metadata": {},
   "outputs": [
    {
     "data": {
      "text/html": [
       "<div>\n",
       "<style scoped>\n",
       "    .dataframe tbody tr th:only-of-type {\n",
       "        vertical-align: middle;\n",
       "    }\n",
       "\n",
       "    .dataframe tbody tr th {\n",
       "        vertical-align: top;\n",
       "    }\n",
       "\n",
       "    .dataframe thead th {\n",
       "        text-align: right;\n",
       "    }\n",
       "</style>\n",
       "<table border=\"1\" class=\"dataframe\">\n",
       "  <thead>\n",
       "    <tr style=\"text-align: right;\">\n",
       "      <th></th>\n",
       "      <th>addr_street</th>\n",
       "      <th>property_id</th>\n",
       "      <th>parking_space</th>\n",
       "      <th>bedrooms</th>\n",
       "      <th>bathrooms</th>\n",
       "      <th>price</th>\n",
       "      <th>year</th>\n",
       "      <th>lng</th>\n",
       "      <th>lat</th>\n",
       "      <th>property_type</th>\n",
       "      <th>Shopping_center_id</th>\n",
       "      <th>Train_station_id</th>\n",
       "      <th>Distance_to_sc</th>\n",
       "      <th>travel_min_to_CBD</th>\n",
       "      <th>Transfer_flag</th>\n",
       "      <th>Hospital_id</th>\n",
       "      <th>Distance_to_hospital</th>\n",
       "      <th>Supermarket_id</th>\n",
       "      <th>Distance_to_supermarket</th>\n",
       "      <th>Distance_to_train_station</th>\n",
       "    </tr>\n",
       "  </thead>\n",
       "  <tbody>\n",
       "    <tr>\n",
       "      <th>0</th>\n",
       "      <td>53 Creekwood Drive</td>\n",
       "      <td>27243</td>\n",
       "      <td>2</td>\n",
       "      <td>5</td>\n",
       "      <td>2</td>\n",
       "      <td>7520000</td>\n",
       "      <td>2010</td>\n",
       "      <td>144.925823</td>\n",
       "      <td>-37.586133</td>\n",
       "      <td>house</td>\n",
       "      <td>not available</td>\n",
       "      <td>0</td>\n",
       "      <td>0</td>\n",
       "      <td>0</td>\n",
       "      <td>-1</td>\n",
       "      <td>hospital_041</td>\n",
       "      <td>16840</td>\n",
       "      <td>not available</td>\n",
       "      <td>0</td>\n",
       "      <td>0</td>\n",
       "    </tr>\n",
       "    <tr>\n",
       "      <th>1</th>\n",
       "      <td>7 Graham Street</td>\n",
       "      <td>4626</td>\n",
       "      <td>1</td>\n",
       "      <td>3</td>\n",
       "      <td>1</td>\n",
       "      <td>11509000</td>\n",
       "      <td>2010</td>\n",
       "      <td>144.867456</td>\n",
       "      <td>-37.839729</td>\n",
       "      <td>house</td>\n",
       "      <td>not available</td>\n",
       "      <td>0</td>\n",
       "      <td>0</td>\n",
       "      <td>0</td>\n",
       "      <td>-1</td>\n",
       "      <td>hospital_003</td>\n",
       "      <td>5620</td>\n",
       "      <td>not available</td>\n",
       "      <td>0</td>\n",
       "      <td>0</td>\n",
       "    </tr>\n",
       "    <tr>\n",
       "      <th>2</th>\n",
       "      <td>36 Linlithgow Street</td>\n",
       "      <td>59897</td>\n",
       "      <td>2</td>\n",
       "      <td>3</td>\n",
       "      <td>1</td>\n",
       "      <td>7048000</td>\n",
       "      <td>2014</td>\n",
       "      <td>145.204568</td>\n",
       "      <td>-37.822338</td>\n",
       "      <td>house</td>\n",
       "      <td>not available</td>\n",
       "      <td>0</td>\n",
       "      <td>0</td>\n",
       "      <td>0</td>\n",
       "      <td>-1</td>\n",
       "      <td>hospital_010</td>\n",
       "      <td>1612</td>\n",
       "      <td>not available</td>\n",
       "      <td>0</td>\n",
       "      <td>0</td>\n",
       "    </tr>\n",
       "    <tr>\n",
       "      <th>3</th>\n",
       "      <td>1a Lara Street</td>\n",
       "      <td>68890</td>\n",
       "      <td>2</td>\n",
       "      <td>3</td>\n",
       "      <td>2</td>\n",
       "      <td>15620000</td>\n",
       "      <td>2010</td>\n",
       "      <td>145.038746</td>\n",
       "      <td>-37.848827</td>\n",
       "      <td>house</td>\n",
       "      <td>not available</td>\n",
       "      <td>0</td>\n",
       "      <td>0</td>\n",
       "      <td>0</td>\n",
       "      <td>-1</td>\n",
       "      <td>hospital_012</td>\n",
       "      <td>3574</td>\n",
       "      <td>not available</td>\n",
       "      <td>0</td>\n",
       "      <td>0</td>\n",
       "    </tr>\n",
       "    <tr>\n",
       "      <th>4</th>\n",
       "      <td>7 Scott Street</td>\n",
       "      <td>14750</td>\n",
       "      <td>2</td>\n",
       "      <td>4</td>\n",
       "      <td>3</td>\n",
       "      <td>16200000</td>\n",
       "      <td>2012</td>\n",
       "      <td>144.908492</td>\n",
       "      <td>-37.756802</td>\n",
       "      <td>house</td>\n",
       "      <td>not available</td>\n",
       "      <td>0</td>\n",
       "      <td>0</td>\n",
       "      <td>0</td>\n",
       "      <td>-1</td>\n",
       "      <td>hospital_007</td>\n",
       "      <td>2402</td>\n",
       "      <td>not available</td>\n",
       "      <td>0</td>\n",
       "      <td>0</td>\n",
       "    </tr>\n",
       "  </tbody>\n",
       "</table>\n",
       "</div>"
      ],
      "text/plain": [
       "            addr_street property_id parking_space bedrooms bathrooms  \\\n",
       "0    53 Creekwood Drive       27243             2        5         2   \n",
       "1       7 Graham Street        4626             1        3         1   \n",
       "2  36 Linlithgow Street       59897             2        3         1   \n",
       "3        1a Lara Street       68890             2        3         2   \n",
       "4        7 Scott Street       14750             2        4         3   \n",
       "\n",
       "      price  year         lng        lat property_type Shopping_center_id  \\\n",
       "0   7520000  2010  144.925823 -37.586133         house      not available   \n",
       "1  11509000  2010  144.867456 -37.839729         house      not available   \n",
       "2   7048000  2014  145.204568 -37.822338         house      not available   \n",
       "3  15620000  2010  145.038746 -37.848827         house      not available   \n",
       "4  16200000  2012  144.908492 -37.756802         house      not available   \n",
       "\n",
       "   Train_station_id  Distance_to_sc  travel_min_to_CBD  Transfer_flag  \\\n",
       "0                 0               0                  0             -1   \n",
       "1                 0               0                  0             -1   \n",
       "2                 0               0                  0             -1   \n",
       "3                 0               0                  0             -1   \n",
       "4                 0               0                  0             -1   \n",
       "\n",
       "    Hospital_id  Distance_to_hospital Supermarket_id  Distance_to_supermarket  \\\n",
       "0  hospital_041                 16840  not available                        0   \n",
       "1  hospital_003                  5620  not available                        0   \n",
       "2  hospital_010                  1612  not available                        0   \n",
       "3  hospital_012                  3574  not available                        0   \n",
       "4  hospital_007                  2402  not available                        0   \n",
       "\n",
       "   Distance_to_train_station  \n",
       "0                          0  \n",
       "1                          0  \n",
       "2                          0  \n",
       "3                          0  \n",
       "4                          0  "
      ]
     },
     "execution_count": 28,
     "metadata": {},
     "output_type": "execute_result"
    }
   ],
   "source": [
    "estate.head()"
   ]
  },
  {
   "cell_type": "markdown",
   "metadata": {},
   "source": [
    "### 2.2 Supermarkets\n",
    "\n",
    "The geographical coordinates and the relevant information of each supermarket was stored in an excel format. ``parse`` function from ``xlrd`` and ``ExcelFile`` from ``pandas`` were utilised for parsing the data frame from an excel file."
   ]
  },
  {
   "cell_type": "code",
   "execution_count": 29,
   "metadata": {},
   "outputs": [],
   "source": [
    "supermarkt = pd.ExcelFile('supermarkets.xlsx').parse(0)\n",
    "# parse the first sheet of the excel file"
   ]
  },
  {
   "cell_type": "code",
   "execution_count": 30,
   "metadata": {},
   "outputs": [],
   "source": [
    "minSup = DistanceCalc(idcol='id', latcol='lat', loncol='lng', df=supermarkt)\n",
    "# calculate the distance between the property and the nearest supermarket "
   ]
  },
  {
   "cell_type": "code",
   "execution_count": 31,
   "metadata": {},
   "outputs": [],
   "source": [
    "estate.Supermarket_id = minSup.ID\n",
    "# assign the nearest supermarket ID to respective properties \n",
    "estate.Distance_to_supermarket= minSup.distance\n",
    "# fill i nthe distance between each property and its nearest supermarket "
   ]
  },
  {
   "cell_type": "markdown",
   "metadata": {},
   "source": [
    "### 2.3 Shopping Centres \n",
    "\n",
    "The information of each shopping centre is stored in ``html`` format. I parsed the data frame in ``html`` format first by reading it in as a string. Then, with ``BeautifulSoup`` library, I used ``lxml`` parser to generate a data frame with readable tags and structure. The rows and columns of the data frame are parsed based on different html tags using ``find()`` and ``findAll`` function from ``BeautifulSoup``. "
   ]
  },
  {
   "cell_type": "code",
   "execution_count": 32,
   "metadata": {},
   "outputs": [],
   "source": [
    "HtmlFile = open('shopingcenters.html', 'r', encoding='utf-8')\n",
    "# first read the contents within the HTML file as a string\n",
    "source_code = HtmlFile.read()\n",
    "# retrieve the source code of the HTML file from the read-in string\n",
    "soup = BeautifulSoup(source_code, 'lxml')\n",
    "# using lxml parser with BeautifulSoup for faster and efficient parsing procedure "
   ]
  },
  {
   "cell_type": "code",
   "execution_count": 33,
   "metadata": {},
   "outputs": [],
   "source": [
    "shopCol = [colName.text for colName in soup.find('thead').findAll('th')[1:4]]\n",
    "# all the 'th' tags in 'thead' code are the table headings, aka column names \n",
    "# parsing only the 'th' tags with the column names in between, store it into shopCol list \n",
    "\n",
    "rows = soup.find('tbody').findAll('td')\n",
    "# the values of each row is stored in 'td' tags, each row is seperated by 'td' tags \n",
    "# 'rows' contains all the contents in 'td' tags parsed by BeautifulSoup"
   ]
  },
  {
   "cell_type": "code",
   "execution_count": 34,
   "metadata": {},
   "outputs": [
    {
     "data": {
      "text/plain": [
       "[<td>SC_001</td>,\n",
       " <td>-37.767915</td>,\n",
       " <td>145.041790</td>,\n",
       " <td>SC_002</td>,\n",
       " <td>-37.819375</td>,\n",
       " <td>145.171472</td>,\n",
       " <td>SC_003</td>,\n",
       " <td>-37.971131</td>,\n",
       " <td>145.089065</td>]"
      ]
     },
     "execution_count": 34,
     "metadata": {},
     "output_type": "execute_result"
    }
   ],
   "source": [
    "rows[0:9]"
   ]
  },
  {
   "cell_type": "code",
   "execution_count": 35,
   "metadata": {},
   "outputs": [],
   "source": [
    "shopDict = dict()\n",
    "# shopDict dictionary stores column-row value pairs \n",
    "# the column names are the keys of the dictionary, each key is assigned with a list of values \n",
    "\n",
    "for colNum in range(0, len(shopCol)):\n",
    "# looping through each column via index \n",
    "    shopDict[shopCol[colNum]] = []\n",
    "    # assigning an empty lits for each column for holding all the observations \n",
    "    \n",
    "    for i in range(colNum, len(rows),3):\n",
    "    # looping through each row/observations with 'td' tags\n",
    "    # three 'td' tags are one row, and thus the loop use step = 3 to loop through each row \n",
    "        shopDict[shopCol[colNum]].append(rows[i].text)\n",
    "        # append the texts converted from the tags into the respective column list in the dictionary "
   ]
  },
  {
   "cell_type": "code",
   "execution_count": 36,
   "metadata": {
    "scrolled": true
   },
   "outputs": [
    {
     "name": "stdout",
     "output_type": "stream",
     "text": [
      "sc_id ['SC_001', 'SC_002', 'SC_003', 'SC_004', 'SC_005', 'SC_006', 'SC_007', 'SC_008', 'SC_009', 'SC_010'] ['SC_110', 'SC_111', 'SC_112', 'SC_113', 'SC_114', 'SC_115', 'SC_116', 'SC_117', 'SC_118', 'SC_119'] \n",
      "\n",
      "lat ['-37.767915', '-37.819375', '-37.971131', '-35.280406', '-37.574572', '-38.355943', '-37.812680', '-37.811846', '-37.765650', '-37.714111'] ['-37.598170', '-37.688846', '-37.987088', '-38.147548', '-38.098450', '-38.014916', '43.105259', '-38.005454', '-37.486265', '-37.781450'] \n",
      "\n",
      "lng ['145.041790', '145.171472', '145.089065', '149.132550', '144.920451', '144.907320', '144.962905', '144.969834', '145.091914', '144.886988'] ['144.939848', '144.603808', '145.215066', '144.362528', '145.293123', '145.323404', '-76.091619', '145.217573', '144.589067', '145.618270'] \n",
      "\n"
     ]
    }
   ],
   "source": [
    "for key in shopDict.keys(): \n",
    "    print(key, shopDict[key][0:10], shopDict[key][-10:],'\\n')\n",
    "# all columns and values are parsed correctly\n",
    "# the latitutde and longitude are stored as strings"
   ]
  },
  {
   "cell_type": "code",
   "execution_count": 37,
   "metadata": {},
   "outputs": [
    {
     "name": "stdout",
     "output_type": "stream",
     "text": [
      "Number of rows in each column: \n",
      "119, 119, 119\n"
     ]
    }
   ],
   "source": [
    "print('Number of rows in each column: ')\n",
    "print(', '.join('{}'.format(len(val)) for val in shopDict.values()))\n",
    "# all columns have the same number of observations "
   ]
  },
  {
   "cell_type": "code",
   "execution_count": 38,
   "metadata": {},
   "outputs": [],
   "source": [
    "SC = pd.DataFrame(shopDict)\n",
    "# convert the dictionary parsed from html into a data frame "
   ]
  },
  {
   "cell_type": "code",
   "execution_count": 39,
   "metadata": {},
   "outputs": [],
   "source": [
    "SC.lat = SC.lat.apply(lambda x: float(x))\n",
    "SC.lng = SC.lng.apply(lambda x: float(x))\n",
    "# convert the latitude and longitude values from strings to floating numbers "
   ]
  },
  {
   "cell_type": "code",
   "execution_count": 40,
   "metadata": {},
   "outputs": [],
   "source": [
    "minSC = DistanceCalc(idcol='sc_id', latcol='lat', loncol='lng', df=SC)\n",
    "# calculate the distance from each property to the nearest shopping centre \n",
    "# minSC is a data frame composed of the nearest shopping centre ID and its distance from each property "
   ]
  },
  {
   "cell_type": "code",
   "execution_count": 41,
   "metadata": {},
   "outputs": [],
   "source": [
    "estate.Distance_to_sc= minSC.distance\n",
    "# fill the distance to the nearest shopping centre\n",
    "estate.Shopping_center_id = minSC.ID\n",
    "# fill the ID of the nearest shopping centre of each property "
   ]
  },
  {
   "cell_type": "markdown",
   "metadata": {},
   "source": [
    "### 2.4 Suburb\n",
    "\n",
    "The information regarding suburbs in the region is stored as geographical shape file. To parse these data into a readable data frame, I used ``shapefile`` library. All the text data regarding each suburb is returned by ``.record()`` function, and the geographical coordinate of each suburb is returned by ``.shape()`` function. \n",
    "\n",
    "To look for the suburb that each property is located at, I looped through both the text information returned by ``.record()`` function in order to obtain each suburb's names. The names of each suburb was the sixth element in each array returned from ``.record()`` function.\n",
    "\n",
    "The ``shape()`` function returns a list of tuple, each tuple consist of a geographical coordinate. Each list is the coordinates that shapes the polygon of the suburb, whose has the same index in the list returned by ``.record()`` function. To match each suburb to its polygons, I looped through each row of both data sets are turned the list of tuples into tuple of tuples for efficiency. \n",
    "\n",
    "After obtaining the polygon of all the suburbs, I looped through each property in the ``estate`` data set in order to look for the suburb it belongs to by using ``contain()`` function. If the latitude and longitude of the property is within the polygon of the suburb, the property is located within the suburb. "
   ]
  },
  {
   "cell_type": "code",
   "execution_count": 42,
   "metadata": {},
   "outputs": [],
   "source": [
    "sf = shapefile.Reader('VIC_LOCALITY_POLYGON_shp')\n",
    "# read in all the geographical data files whose prefix of the file name starts with 'VIC_LOCALITY_POLYGON_shp'"
   ]
  },
  {
   "cell_type": "code",
   "execution_count": 43,
   "metadata": {},
   "outputs": [],
   "source": [
    "suburbRecords = sf.records()\n",
    "# the information regarding all the suburbs are called with records() function \n",
    "suburbShape = sf.shapes()\n",
    "# shapes() returns all the geographical coordinates for generating the polygon of each location"
   ]
  },
  {
   "cell_type": "code",
   "execution_count": 44,
   "metadata": {},
   "outputs": [
    {
     "data": {
      "text/plain": [
       "[Record #1: ['6671', datetime.date(2011, 8, 31), None, 'VIC1986', datetime.date(2012, 4, 27), None, 'NURRAN', '', '', 'G', None, '2'],\n",
       " Record #2: ['6672', datetime.date(2011, 8, 31), None, 'VIC2862', datetime.date(2012, 4, 27), None, 'WOORNDOO', '', '', 'G', None, '2'],\n",
       " Record #3: ['6673', datetime.date(2011, 8, 31), None, 'VIC734', datetime.date(2017, 8, 9), None, 'DEPTFORD', '', '', 'G', None, '2'],\n",
       " Record #4: ['6674', datetime.date(2011, 8, 31), None, 'VIC2900', datetime.date(2012, 4, 27), None, 'YANAC', '', '', 'G', None, '2'],\n",
       " Record #5: ['6405', datetime.date(2011, 8, 31), None, 'VIC1688', datetime.date(2012, 4, 27), None, 'MINIMAY', '', '', 'G', None, '2'],\n",
       " Record #6: ['6451', datetime.date(2011, 8, 31), None, 'VIC999', datetime.date(2012, 4, 27), None, 'GLEN FORBES', '', '', 'G', None, '2'],\n",
       " Record #7: ['6452', datetime.date(2011, 8, 31), None, 'VIC7', datetime.date(2012, 4, 27), None, 'ADAMS ESTATE', '', '', 'G', None, '2'],\n",
       " Record #8: ['6465', datetime.date(2011, 8, 31), None, 'VIC751', datetime.date(2012, 4, 27), None, 'DIMBOOLA', '', '', 'G', None, '2'],\n",
       " Record #9: ['6466', datetime.date(2011, 8, 31), None, 'VIC467', datetime.date(2012, 4, 27), None, 'CANNUM', '', '', 'G', None, '2']]"
      ]
     },
     "execution_count": 44,
     "metadata": {},
     "output_type": "execute_result"
    }
   ],
   "source": [
    "suburbRecords[1:10]\n",
    "# Each record line represent each row in the data frame \n",
    "# The seventh cell in the row is the suburb name, \n",
    "# and the suburb with its matching coordinates is the information we need."
   ]
  },
  {
   "cell_type": "code",
   "execution_count": 45,
   "metadata": {},
   "outputs": [
    {
     "data": {
      "text/plain": [
       "[(148.66876202, -37.39571345),\n",
       " (148.66848331, -37.39576293),\n",
       " (148.66821178, -37.39581231),\n",
       " (148.66789227, -37.3959711),\n",
       " (148.66766529, -37.39609431),\n",
       " (148.66754021, -37.3962906),\n",
       " (148.66745957, -37.396555),\n",
       " (148.66732943, -37.39685439),\n",
       " (148.66719625, -37.39700499)]"
      ]
     },
     "execution_count": 45,
     "metadata": {},
     "output_type": "execute_result"
    }
   ],
   "source": [
    "suburbShape[1].points[1:10]\n",
    "# suburbShape returns a list of tuples, each tuple is a geographical coordinate"
   ]
  },
  {
   "cell_type": "code",
   "execution_count": 46,
   "metadata": {},
   "outputs": [],
   "source": [
    "suburbToPolygon = dict()\n",
    "# the dictionary stores the coordinates of each suburb, which is in need to shape a Polygon\n",
    "\n",
    "for i in range(len(suburbRecords)): \n",
    "# loop through each row of the data frame \n",
    "    suburbToPolygon[suburbRecords[i][6]] = tuple(suburbShape[i].points)\n",
    "    # the 7th element from each row is the suburb name. \n",
    "    # each suburb name is the key in suburbToPolygon dictionary \n",
    "    # the value to each key is the tuple of all the coordinates required to shape a Polygon of the suburb"
   ]
  },
  {
   "cell_type": "code",
   "execution_count": 47,
   "metadata": {},
   "outputs": [],
   "source": [
    "estate['suburb'] = np.nan\n",
    "# create a column 'suburb' to estate data frame \n",
    "# this is to record the matching suburb of each property in the upcoming code chunk "
   ]
  },
  {
   "cell_type": "code",
   "execution_count": 48,
   "metadata": {},
   "outputs": [],
   "source": [
    "for i in range(estate.shape[0]): \n",
    "# looping through property in the estate data frame \n",
    "    longitude = estate.loc[i,'lng']\n",
    "    # longitude of the property in loop \n",
    "    latitude = estate.loc[i,'lat']\n",
    "    # latitude of the property in loop \n",
    "\n",
    "    for x in suburbToPolygon.keys(): \n",
    "    # for each property, we loop through the dictionary with the suburb names and their respective coordinates \n",
    "    # we then look for the suburb whose polygon contains the latitude and longitude of the property in the loop \n",
    "\n",
    "        if Polygon(suburbToPolygon[x]).contains(Point(longitude, latitude)): \n",
    "        # if the polygon includes the latitude and longitude of the property retrieved above \n",
    "            estate.loc[i, 'suburb'] = x.capitalize()\n",
    "            # then the property's suburb is the key of the dictionary "
   ]
  },
  {
   "cell_type": "code",
   "execution_count": 49,
   "metadata": {},
   "outputs": [
    {
     "data": {
      "text/html": [
       "<div>\n",
       "<style scoped>\n",
       "    .dataframe tbody tr th:only-of-type {\n",
       "        vertical-align: middle;\n",
       "    }\n",
       "\n",
       "    .dataframe tbody tr th {\n",
       "        vertical-align: top;\n",
       "    }\n",
       "\n",
       "    .dataframe thead th {\n",
       "        text-align: right;\n",
       "    }\n",
       "</style>\n",
       "<table border=\"1\" class=\"dataframe\">\n",
       "  <thead>\n",
       "    <tr style=\"text-align: right;\">\n",
       "      <th></th>\n",
       "      <th>addr_street</th>\n",
       "      <th>property_id</th>\n",
       "      <th>parking_space</th>\n",
       "      <th>bedrooms</th>\n",
       "      <th>bathrooms</th>\n",
       "      <th>price</th>\n",
       "      <th>year</th>\n",
       "      <th>lng</th>\n",
       "      <th>lat</th>\n",
       "      <th>property_type</th>\n",
       "      <th>...</th>\n",
       "      <th>Train_station_id</th>\n",
       "      <th>Distance_to_sc</th>\n",
       "      <th>travel_min_to_CBD</th>\n",
       "      <th>Transfer_flag</th>\n",
       "      <th>Hospital_id</th>\n",
       "      <th>Distance_to_hospital</th>\n",
       "      <th>Supermarket_id</th>\n",
       "      <th>Distance_to_supermarket</th>\n",
       "      <th>Distance_to_train_station</th>\n",
       "      <th>suburb</th>\n",
       "    </tr>\n",
       "  </thead>\n",
       "  <tbody>\n",
       "    <tr>\n",
       "      <th>0</th>\n",
       "      <td>53 Creekwood Drive</td>\n",
       "      <td>27243</td>\n",
       "      <td>2</td>\n",
       "      <td>5</td>\n",
       "      <td>2</td>\n",
       "      <td>7520000</td>\n",
       "      <td>2010</td>\n",
       "      <td>144.925823</td>\n",
       "      <td>-37.586133</td>\n",
       "      <td>house</td>\n",
       "      <td>...</td>\n",
       "      <td>0</td>\n",
       "      <td>1297</td>\n",
       "      <td>0</td>\n",
       "      <td>-1</td>\n",
       "      <td>hospital_041</td>\n",
       "      <td>16840</td>\n",
       "      <td>S_178</td>\n",
       "      <td>1135</td>\n",
       "      <td>0</td>\n",
       "      <td>Craigieburn</td>\n",
       "    </tr>\n",
       "    <tr>\n",
       "      <th>1</th>\n",
       "      <td>7 Graham Street</td>\n",
       "      <td>4626</td>\n",
       "      <td>1</td>\n",
       "      <td>3</td>\n",
       "      <td>1</td>\n",
       "      <td>11509000</td>\n",
       "      <td>2010</td>\n",
       "      <td>144.867456</td>\n",
       "      <td>-37.839729</td>\n",
       "      <td>house</td>\n",
       "      <td>...</td>\n",
       "      <td>0</td>\n",
       "      <td>2329</td>\n",
       "      <td>0</td>\n",
       "      <td>-1</td>\n",
       "      <td>hospital_003</td>\n",
       "      <td>5620</td>\n",
       "      <td>S_056</td>\n",
       "      <td>1909</td>\n",
       "      <td>0</td>\n",
       "      <td>Newport</td>\n",
       "    </tr>\n",
       "    <tr>\n",
       "      <th>2</th>\n",
       "      <td>36 Linlithgow Street</td>\n",
       "      <td>59897</td>\n",
       "      <td>2</td>\n",
       "      <td>3</td>\n",
       "      <td>1</td>\n",
       "      <td>7048000</td>\n",
       "      <td>2014</td>\n",
       "      <td>145.204568</td>\n",
       "      <td>-37.822338</td>\n",
       "      <td>house</td>\n",
       "      <td>...</td>\n",
       "      <td>0</td>\n",
       "      <td>2223</td>\n",
       "      <td>0</td>\n",
       "      <td>-1</td>\n",
       "      <td>hospital_010</td>\n",
       "      <td>1612</td>\n",
       "      <td>S_040</td>\n",
       "      <td>2421</td>\n",
       "      <td>0</td>\n",
       "      <td>Mitcham</td>\n",
       "    </tr>\n",
       "    <tr>\n",
       "      <th>3</th>\n",
       "      <td>1a Lara Street</td>\n",
       "      <td>68890</td>\n",
       "      <td>2</td>\n",
       "      <td>3</td>\n",
       "      <td>2</td>\n",
       "      <td>15620000</td>\n",
       "      <td>2010</td>\n",
       "      <td>145.038746</td>\n",
       "      <td>-37.848827</td>\n",
       "      <td>house</td>\n",
       "      <td>...</td>\n",
       "      <td>0</td>\n",
       "      <td>2833</td>\n",
       "      <td>0</td>\n",
       "      <td>-1</td>\n",
       "      <td>hospital_012</td>\n",
       "      <td>3574</td>\n",
       "      <td>S_235</td>\n",
       "      <td>1531</td>\n",
       "      <td>0</td>\n",
       "      <td>Malvern</td>\n",
       "    </tr>\n",
       "    <tr>\n",
       "      <th>4</th>\n",
       "      <td>7 Scott Street</td>\n",
       "      <td>14750</td>\n",
       "      <td>2</td>\n",
       "      <td>4</td>\n",
       "      <td>3</td>\n",
       "      <td>16200000</td>\n",
       "      <td>2012</td>\n",
       "      <td>144.908492</td>\n",
       "      <td>-37.756802</td>\n",
       "      <td>house</td>\n",
       "      <td>...</td>\n",
       "      <td>0</td>\n",
       "      <td>2504</td>\n",
       "      <td>0</td>\n",
       "      <td>-1</td>\n",
       "      <td>hospital_007</td>\n",
       "      <td>2402</td>\n",
       "      <td>S_197</td>\n",
       "      <td>1377</td>\n",
       "      <td>0</td>\n",
       "      <td>Essendon</td>\n",
       "    </tr>\n",
       "  </tbody>\n",
       "</table>\n",
       "<p>5 rows × 21 columns</p>\n",
       "</div>"
      ],
      "text/plain": [
       "            addr_street property_id parking_space bedrooms bathrooms  \\\n",
       "0    53 Creekwood Drive       27243             2        5         2   \n",
       "1       7 Graham Street        4626             1        3         1   \n",
       "2  36 Linlithgow Street       59897             2        3         1   \n",
       "3        1a Lara Street       68890             2        3         2   \n",
       "4        7 Scott Street       14750             2        4         3   \n",
       "\n",
       "      price  year         lng        lat property_type  ... Train_station_id  \\\n",
       "0   7520000  2010  144.925823 -37.586133         house  ...                0   \n",
       "1  11509000  2010  144.867456 -37.839729         house  ...                0   \n",
       "2   7048000  2014  145.204568 -37.822338         house  ...                0   \n",
       "3  15620000  2010  145.038746 -37.848827         house  ...                0   \n",
       "4  16200000  2012  144.908492 -37.756802         house  ...                0   \n",
       "\n",
       "   Distance_to_sc  travel_min_to_CBD  Transfer_flag   Hospital_id  \\\n",
       "0            1297                  0             -1  hospital_041   \n",
       "1            2329                  0             -1  hospital_003   \n",
       "2            2223                  0             -1  hospital_010   \n",
       "3            2833                  0             -1  hospital_012   \n",
       "4            2504                  0             -1  hospital_007   \n",
       "\n",
       "  Distance_to_hospital  Supermarket_id Distance_to_supermarket  \\\n",
       "0                16840           S_178                    1135   \n",
       "1                 5620           S_056                    1909   \n",
       "2                 1612           S_040                    2421   \n",
       "3                 3574           S_235                    1531   \n",
       "4                 2402           S_197                    1377   \n",
       "\n",
       "   Distance_to_train_station       suburb  \n",
       "0                          0  Craigieburn  \n",
       "1                          0      Newport  \n",
       "2                          0      Mitcham  \n",
       "3                          0      Malvern  \n",
       "4                          0     Essendon  \n",
       "\n",
       "[5 rows x 21 columns]"
      ]
     },
     "execution_count": 49,
     "metadata": {},
     "output_type": "execute_result"
    }
   ],
   "source": [
    "estate.head()\n",
    "# the suburb of each property is filled in."
   ]
  },
  {
   "cell_type": "markdown",
   "metadata": {},
   "source": [
    "### 2.5 Train Station\n",
    "\n",
    "The information on the nearest stop is stored as a text data. When I opened the text data using ``open()`` function, I could see that each column and rows were seperated by comma, and was stored in exactly the same structure as a ``csv`` format. ``pd.read_csv`` format, therefore, directly could read in the text file and convert it into a readable data frame. The nearest station and the distance between it and respective property was calcualted using ``DistanceCalc`` funciton."
   ]
  },
  {
   "cell_type": "code",
   "execution_count": 50,
   "metadata": {},
   "outputs": [
    {
     "data": {
      "text/plain": [
       "['\"15351\",\"Sunbury Railway Station\",\"Sunbury\",\"-37.5790909705787\",\"144.727318781329\"\\n',\n",
       " '\"15353\",\"Diggers Rest Railway Station\",\"Diggers Rest\",\"-37.6270165149357\",\"144.719922441113\"\\n',\n",
       " '\"19827\",\"Stony Point Railway Station\",\"Crib Point\",\"-38.3742345364937\",\"145.221837462187\"\\n',\n",
       " '\"19828\",\"Crib Point Railway Station\",\"Crib Point\",\"-38.3661233827862\",\"145.204043321601\"\\n',\n",
       " '\"19829\",\"Morradoo Railway Station\",\"Crib Point\",\"-38.3540333365844\",\"145.189602487712\"\\n',\n",
       " '\"19830\",\"Bittern Railway Station\",\"Bittern\",\"-38.3373903202406\",\"145.178026527511\"\\n',\n",
       " '\"19831\",\"Hastings Railway Station\",\"Hastings\",\"-38.3056585273722\",\"145.185979882012\"\\n',\n",
       " '\"19832\",\"Tyabb Railway Station\",\"Tyabb\",\"-38.2598150046916\",\"145.186400708984\"\\n',\n",
       " '\"19833\",\"Somerville Railway Station\",\"Somerville\",\"-38.2253419593114\",\"145.1762449189\"\\n']"
      ]
     },
     "execution_count": 50,
     "metadata": {},
     "output_type": "execute_result"
    }
   ],
   "source": [
    "open('stops.txt').readlines()[1:10]"
   ]
  },
  {
   "cell_type": "code",
   "execution_count": 51,
   "metadata": {},
   "outputs": [],
   "source": [
    "stops = pd.read_csv('stops.txt')"
   ]
  },
  {
   "cell_type": "code",
   "execution_count": 52,
   "metadata": {},
   "outputs": [],
   "source": [
    "distance_ID = DistanceCalc(idcol = 'stop_id',\\\n",
    "            latcol = 'stop_lat',\\\n",
    "            loncol = 'stop_lon',\\\n",
    "            df = stops)\n",
    "\n",
    "# calculate the distance from each property to the nearest train stop"
   ]
  },
  {
   "cell_type": "code",
   "execution_count": 53,
   "metadata": {},
   "outputs": [],
   "source": [
    "estate['Distance_to_train_station']=distance_ID['distance']\n",
    "# fill the distance to the nearest stops\n",
    "estate.Train_station_id=distance_ID['ID']\n",
    "# fill the stop ID of the nereast stops to the respective properties "
   ]
  },
  {
   "cell_type": "markdown",
   "metadata": {},
   "source": [
    "## Part 3. Travel Duration and Transfer Flags \n",
    "\n",
    "The transfer flags refers to whether the nearest station from a property offers a direct trip to Flinders Street Station without any transits in train lines. These trips should be run during the rush hours in the mornings, every weekday between 7 to 9am. The travel duration, which is the travel time between the property to Flinders Street Station from the nearest station by train, refers to the average travel time of all the trips occurs between 7 to 9am between two stations. \n",
    "\n",
    "Four datasets are given in order to obtain these two columns: \n",
    "\n",
    "* ``routes`` - refers to the route a train takes between two major stations. Depending on long- or short-distance train, each route can have multiple trips in different stop stations.  \n",
    "\n",
    "* ``calendar`` - the operating days of a week of each service line  \n",
    "\n",
    "* ``trip`` - the trips between each route. The information includes the direction of a trip - outbound or inbound  \n",
    "\n",
    "* ``stop_times`` - the running time and sequence of each trip. This includes the stops that are run within each trip  \n",
    "\n",
    "To approach this problem, we should first start by filtering out the service lines runs through the timeframe that is needed to our calculation. Therefore, the first step I took was to obtain the train service line that runs every single week days using ``calendar`` data set. \n",
    "\n",
    "Then, we need to start exploring the 'relationship' amongst the data set: each route can have multiple trips, and each trip has different stoptimes. ``trips`` have foreign keys from ``routes``, and ``stop_times`` has foreign keys from both ``routes`` and ``trips``. ``trips`` is the only data frame with the information on the service lines. ``stop_times`` also has foreign keys from ``stops`` data set. Therefore, we can merge ``routes`` to ``trips``, and then merge the new data frame with ``stop_times`` in order to understand the running information of the service lines and obtain the running times of the service line that we actually need."
   ]
  },
  {
   "cell_type": "markdown",
   "metadata": {},
   "source": [
    "### 3.1 Travel Itinerary - Merging Four Data Frames "
   ]
  },
  {
   "cell_type": "code",
   "execution_count": 54,
   "metadata": {},
   "outputs": [],
   "source": [
    "routes = pd.read_csv('routes.txt')\n",
    "calendar = pd.read_csv('calendar.txt')\n",
    "trip = pd.read_csv('trips.txt')\n",
    "stoptimes = pd.read_csv('stop_times.txt')"
   ]
  },
  {
   "cell_type": "code",
   "execution_count": 55,
   "metadata": {},
   "outputs": [
    {
     "data": {
      "text/html": [
       "<div>\n",
       "<style scoped>\n",
       "    .dataframe tbody tr th:only-of-type {\n",
       "        vertical-align: middle;\n",
       "    }\n",
       "\n",
       "    .dataframe tbody tr th {\n",
       "        vertical-align: top;\n",
       "    }\n",
       "\n",
       "    .dataframe thead th {\n",
       "        text-align: right;\n",
       "    }\n",
       "</style>\n",
       "<table border=\"1\" class=\"dataframe\">\n",
       "  <thead>\n",
       "    <tr style=\"text-align: right;\">\n",
       "      <th></th>\n",
       "      <th>service_id</th>\n",
       "      <th>monday</th>\n",
       "      <th>tuesday</th>\n",
       "      <th>wednesday</th>\n",
       "      <th>thursday</th>\n",
       "      <th>friday</th>\n",
       "      <th>saturday</th>\n",
       "      <th>sunday</th>\n",
       "      <th>start_date</th>\n",
       "      <th>end_date</th>\n",
       "    </tr>\n",
       "  </thead>\n",
       "  <tbody>\n",
       "    <tr>\n",
       "      <th>0</th>\n",
       "      <td>T2</td>\n",
       "      <td>0</td>\n",
       "      <td>0</td>\n",
       "      <td>0</td>\n",
       "      <td>0</td>\n",
       "      <td>0</td>\n",
       "      <td>1</td>\n",
       "      <td>0</td>\n",
       "      <td>20151009</td>\n",
       "      <td>20151011</td>\n",
       "    </tr>\n",
       "    <tr>\n",
       "      <th>1</th>\n",
       "      <td>UJ</td>\n",
       "      <td>0</td>\n",
       "      <td>0</td>\n",
       "      <td>0</td>\n",
       "      <td>0</td>\n",
       "      <td>0</td>\n",
       "      <td>0</td>\n",
       "      <td>1</td>\n",
       "      <td>20151009</td>\n",
       "      <td>20151011</td>\n",
       "    </tr>\n",
       "    <tr>\n",
       "      <th>2</th>\n",
       "      <td>T6</td>\n",
       "      <td>0</td>\n",
       "      <td>0</td>\n",
       "      <td>0</td>\n",
       "      <td>0</td>\n",
       "      <td>1</td>\n",
       "      <td>0</td>\n",
       "      <td>0</td>\n",
       "      <td>20151009</td>\n",
       "      <td>20151011</td>\n",
       "    </tr>\n",
       "    <tr>\n",
       "      <th>3</th>\n",
       "      <td>T5</td>\n",
       "      <td>1</td>\n",
       "      <td>1</td>\n",
       "      <td>1</td>\n",
       "      <td>1</td>\n",
       "      <td>0</td>\n",
       "      <td>0</td>\n",
       "      <td>0</td>\n",
       "      <td>20151012</td>\n",
       "      <td>20151015</td>\n",
       "    </tr>\n",
       "    <tr>\n",
       "      <th>4</th>\n",
       "      <td>T2_1</td>\n",
       "      <td>0</td>\n",
       "      <td>0</td>\n",
       "      <td>0</td>\n",
       "      <td>0</td>\n",
       "      <td>0</td>\n",
       "      <td>1</td>\n",
       "      <td>0</td>\n",
       "      <td>20151016</td>\n",
       "      <td>20151018</td>\n",
       "    </tr>\n",
       "  </tbody>\n",
       "</table>\n",
       "</div>"
      ],
      "text/plain": [
       "  service_id  monday  tuesday  wednesday  thursday  friday  saturday  sunday  \\\n",
       "0         T2       0        0          0         0       0         1       0   \n",
       "1         UJ       0        0          0         0       0         0       1   \n",
       "2         T6       0        0          0         0       1         0       0   \n",
       "3         T5       1        1          1         1       0         0       0   \n",
       "4       T2_1       0        0          0         0       0         1       0   \n",
       "\n",
       "   start_date  end_date  \n",
       "0    20151009  20151011  \n",
       "1    20151009  20151011  \n",
       "2    20151009  20151011  \n",
       "3    20151012  20151015  \n",
       "4    20151016  20151018  "
      ]
     },
     "execution_count": 55,
     "metadata": {},
     "output_type": "execute_result"
    }
   ],
   "source": [
    "calendar.head()"
   ]
  },
  {
   "cell_type": "code",
   "execution_count": 56,
   "metadata": {},
   "outputs": [
    {
     "data": {
      "text/html": [
       "<div>\n",
       "<style scoped>\n",
       "    .dataframe tbody tr th:only-of-type {\n",
       "        vertical-align: middle;\n",
       "    }\n",
       "\n",
       "    .dataframe tbody tr th {\n",
       "        vertical-align: top;\n",
       "    }\n",
       "\n",
       "    .dataframe thead th {\n",
       "        text-align: right;\n",
       "    }\n",
       "</style>\n",
       "<table border=\"1\" class=\"dataframe\">\n",
       "  <thead>\n",
       "    <tr style=\"text-align: right;\">\n",
       "      <th></th>\n",
       "      <th>route_id</th>\n",
       "      <th>agency_id</th>\n",
       "      <th>route_short_name</th>\n",
       "      <th>route_long_name</th>\n",
       "      <th>route_type</th>\n",
       "    </tr>\n",
       "  </thead>\n",
       "  <tbody>\n",
       "    <tr>\n",
       "      <th>0</th>\n",
       "      <td>2-ALM-B-mjp-1</td>\n",
       "      <td>1</td>\n",
       "      <td>Alamein</td>\n",
       "      <td>Alamein - City (Flinders Street)</td>\n",
       "      <td>2</td>\n",
       "    </tr>\n",
       "    <tr>\n",
       "      <th>1</th>\n",
       "      <td>2-ALM-C-mjp-1</td>\n",
       "      <td>1</td>\n",
       "      <td>Alamein</td>\n",
       "      <td>Alamein - City (Flinders Street)</td>\n",
       "      <td>2</td>\n",
       "    </tr>\n",
       "    <tr>\n",
       "      <th>2</th>\n",
       "      <td>2-ALM-D-mjp-1</td>\n",
       "      <td>1</td>\n",
       "      <td>Alamein</td>\n",
       "      <td>Alamein - City (Flinders Street)</td>\n",
       "      <td>2</td>\n",
       "    </tr>\n",
       "    <tr>\n",
       "      <th>3</th>\n",
       "      <td>2-ALM-E-mjp-1</td>\n",
       "      <td>1</td>\n",
       "      <td>Alamein</td>\n",
       "      <td>Alamein - City (Flinders Street)</td>\n",
       "      <td>2</td>\n",
       "    </tr>\n",
       "    <tr>\n",
       "      <th>4</th>\n",
       "      <td>2-ALM-F-mjp-1</td>\n",
       "      <td>1</td>\n",
       "      <td>Alamein</td>\n",
       "      <td>Alamein - City (Flinders Street)</td>\n",
       "      <td>2</td>\n",
       "    </tr>\n",
       "  </tbody>\n",
       "</table>\n",
       "</div>"
      ],
      "text/plain": [
       "        route_id  agency_id route_short_name  \\\n",
       "0  2-ALM-B-mjp-1          1          Alamein   \n",
       "1  2-ALM-C-mjp-1          1          Alamein   \n",
       "2  2-ALM-D-mjp-1          1          Alamein   \n",
       "3  2-ALM-E-mjp-1          1          Alamein   \n",
       "4  2-ALM-F-mjp-1          1          Alamein   \n",
       "\n",
       "                    route_long_name  route_type  \n",
       "0  Alamein - City (Flinders Street)           2  \n",
       "1  Alamein - City (Flinders Street)           2  \n",
       "2  Alamein - City (Flinders Street)           2  \n",
       "3  Alamein - City (Flinders Street)           2  \n",
       "4  Alamein - City (Flinders Street)           2  "
      ]
     },
     "execution_count": 56,
     "metadata": {},
     "output_type": "execute_result"
    }
   ],
   "source": [
    "routes.head()"
   ]
  },
  {
   "cell_type": "code",
   "execution_count": 57,
   "metadata": {},
   "outputs": [
    {
     "data": {
      "text/html": [
       "<div>\n",
       "<style scoped>\n",
       "    .dataframe tbody tr th:only-of-type {\n",
       "        vertical-align: middle;\n",
       "    }\n",
       "\n",
       "    .dataframe tbody tr th {\n",
       "        vertical-align: top;\n",
       "    }\n",
       "\n",
       "    .dataframe thead th {\n",
       "        text-align: right;\n",
       "    }\n",
       "</style>\n",
       "<table border=\"1\" class=\"dataframe\">\n",
       "  <thead>\n",
       "    <tr style=\"text-align: right;\">\n",
       "      <th></th>\n",
       "      <th>route_id</th>\n",
       "      <th>service_id</th>\n",
       "      <th>trip_id</th>\n",
       "      <th>shape_id</th>\n",
       "      <th>trip_headsign</th>\n",
       "      <th>direction_id</th>\n",
       "    </tr>\n",
       "  </thead>\n",
       "  <tbody>\n",
       "    <tr>\n",
       "      <th>0</th>\n",
       "      <td>2-ALM-F-mjp-1</td>\n",
       "      <td>T0</td>\n",
       "      <td>17067982.T0.2-ALM-F-mjp-1.1.H</td>\n",
       "      <td>2-ALM-F-mjp-1.1.H</td>\n",
       "      <td>City (Flinders Street)</td>\n",
       "      <td>0</td>\n",
       "    </tr>\n",
       "    <tr>\n",
       "      <th>1</th>\n",
       "      <td>2-ALM-F-mjp-1</td>\n",
       "      <td>T0</td>\n",
       "      <td>17067988.T0.2-ALM-F-mjp-1.1.H</td>\n",
       "      <td>2-ALM-F-mjp-1.1.H</td>\n",
       "      <td>City (Flinders Street)</td>\n",
       "      <td>0</td>\n",
       "    </tr>\n",
       "    <tr>\n",
       "      <th>2</th>\n",
       "      <td>2-ALM-F-mjp-1</td>\n",
       "      <td>T0</td>\n",
       "      <td>17067992.T0.2-ALM-F-mjp-1.1.H</td>\n",
       "      <td>2-ALM-F-mjp-1.1.H</td>\n",
       "      <td>City (Flinders Street)</td>\n",
       "      <td>0</td>\n",
       "    </tr>\n",
       "    <tr>\n",
       "      <th>3</th>\n",
       "      <td>2-ALM-F-mjp-1</td>\n",
       "      <td>T0</td>\n",
       "      <td>17067999.T0.2-ALM-F-mjp-1.1.H</td>\n",
       "      <td>2-ALM-F-mjp-1.1.H</td>\n",
       "      <td>City (Flinders Street)</td>\n",
       "      <td>0</td>\n",
       "    </tr>\n",
       "    <tr>\n",
       "      <th>4</th>\n",
       "      <td>2-ALM-F-mjp-1</td>\n",
       "      <td>T0</td>\n",
       "      <td>17068003.T0.2-ALM-F-mjp-1.1.H</td>\n",
       "      <td>2-ALM-F-mjp-1.1.H</td>\n",
       "      <td>City (Flinders Street)</td>\n",
       "      <td>0</td>\n",
       "    </tr>\n",
       "  </tbody>\n",
       "</table>\n",
       "</div>"
      ],
      "text/plain": [
       "        route_id service_id                        trip_id           shape_id  \\\n",
       "0  2-ALM-F-mjp-1         T0  17067982.T0.2-ALM-F-mjp-1.1.H  2-ALM-F-mjp-1.1.H   \n",
       "1  2-ALM-F-mjp-1         T0  17067988.T0.2-ALM-F-mjp-1.1.H  2-ALM-F-mjp-1.1.H   \n",
       "2  2-ALM-F-mjp-1         T0  17067992.T0.2-ALM-F-mjp-1.1.H  2-ALM-F-mjp-1.1.H   \n",
       "3  2-ALM-F-mjp-1         T0  17067999.T0.2-ALM-F-mjp-1.1.H  2-ALM-F-mjp-1.1.H   \n",
       "4  2-ALM-F-mjp-1         T0  17068003.T0.2-ALM-F-mjp-1.1.H  2-ALM-F-mjp-1.1.H   \n",
       "\n",
       "            trip_headsign  direction_id  \n",
       "0  City (Flinders Street)             0  \n",
       "1  City (Flinders Street)             0  \n",
       "2  City (Flinders Street)             0  \n",
       "3  City (Flinders Street)             0  \n",
       "4  City (Flinders Street)             0  "
      ]
     },
     "execution_count": 57,
     "metadata": {},
     "output_type": "execute_result"
    }
   ],
   "source": [
    "trip.head()"
   ]
  },
  {
   "cell_type": "code",
   "execution_count": 58,
   "metadata": {},
   "outputs": [
    {
     "data": {
      "text/html": [
       "<div>\n",
       "<style scoped>\n",
       "    .dataframe tbody tr th:only-of-type {\n",
       "        vertical-align: middle;\n",
       "    }\n",
       "\n",
       "    .dataframe tbody tr th {\n",
       "        vertical-align: top;\n",
       "    }\n",
       "\n",
       "    .dataframe thead th {\n",
       "        text-align: right;\n",
       "    }\n",
       "</style>\n",
       "<table border=\"1\" class=\"dataframe\">\n",
       "  <thead>\n",
       "    <tr style=\"text-align: right;\">\n",
       "      <th></th>\n",
       "      <th>trip_id</th>\n",
       "      <th>arrival_time</th>\n",
       "      <th>departure_time</th>\n",
       "      <th>stop_id</th>\n",
       "      <th>stop_sequence</th>\n",
       "      <th>stop_headsign</th>\n",
       "      <th>pickup_type</th>\n",
       "      <th>drop_off_type</th>\n",
       "      <th>shape_dist_traveled</th>\n",
       "    </tr>\n",
       "  </thead>\n",
       "  <tbody>\n",
       "    <tr>\n",
       "      <th>0</th>\n",
       "      <td>17182517.T2.2-ALM-B-mjp-1.1.H</td>\n",
       "      <td>04:57:00</td>\n",
       "      <td>04:57:00</td>\n",
       "      <td>19847</td>\n",
       "      <td>1</td>\n",
       "      <td>NaN</td>\n",
       "      <td>0</td>\n",
       "      <td>0</td>\n",
       "      <td>0.000000</td>\n",
       "    </tr>\n",
       "    <tr>\n",
       "      <th>1</th>\n",
       "      <td>17182517.T2.2-ALM-B-mjp-1.1.H</td>\n",
       "      <td>04:58:00</td>\n",
       "      <td>04:58:00</td>\n",
       "      <td>19848</td>\n",
       "      <td>2</td>\n",
       "      <td>NaN</td>\n",
       "      <td>0</td>\n",
       "      <td>0</td>\n",
       "      <td>723.017818</td>\n",
       "    </tr>\n",
       "    <tr>\n",
       "      <th>2</th>\n",
       "      <td>17182517.T2.2-ALM-B-mjp-1.1.H</td>\n",
       "      <td>05:00:00</td>\n",
       "      <td>05:00:00</td>\n",
       "      <td>19849</td>\n",
       "      <td>3</td>\n",
       "      <td>NaN</td>\n",
       "      <td>0</td>\n",
       "      <td>0</td>\n",
       "      <td>1951.735072</td>\n",
       "    </tr>\n",
       "    <tr>\n",
       "      <th>3</th>\n",
       "      <td>17182517.T2.2-ALM-B-mjp-1.1.H</td>\n",
       "      <td>05:02:00</td>\n",
       "      <td>05:02:00</td>\n",
       "      <td>19850</td>\n",
       "      <td>4</td>\n",
       "      <td>NaN</td>\n",
       "      <td>0</td>\n",
       "      <td>0</td>\n",
       "      <td>2899.073349</td>\n",
       "    </tr>\n",
       "    <tr>\n",
       "      <th>4</th>\n",
       "      <td>17182517.T2.2-ALM-B-mjp-1.1.H</td>\n",
       "      <td>05:04:00</td>\n",
       "      <td>05:04:00</td>\n",
       "      <td>19851</td>\n",
       "      <td>5</td>\n",
       "      <td>NaN</td>\n",
       "      <td>0</td>\n",
       "      <td>0</td>\n",
       "      <td>3927.090952</td>\n",
       "    </tr>\n",
       "  </tbody>\n",
       "</table>\n",
       "</div>"
      ],
      "text/plain": [
       "                         trip_id arrival_time departure_time  stop_id  \\\n",
       "0  17182517.T2.2-ALM-B-mjp-1.1.H     04:57:00       04:57:00    19847   \n",
       "1  17182517.T2.2-ALM-B-mjp-1.1.H     04:58:00       04:58:00    19848   \n",
       "2  17182517.T2.2-ALM-B-mjp-1.1.H     05:00:00       05:00:00    19849   \n",
       "3  17182517.T2.2-ALM-B-mjp-1.1.H     05:02:00       05:02:00    19850   \n",
       "4  17182517.T2.2-ALM-B-mjp-1.1.H     05:04:00       05:04:00    19851   \n",
       "\n",
       "   stop_sequence  stop_headsign  pickup_type  drop_off_type  \\\n",
       "0              1            NaN            0              0   \n",
       "1              2            NaN            0              0   \n",
       "2              3            NaN            0              0   \n",
       "3              4            NaN            0              0   \n",
       "4              5            NaN            0              0   \n",
       "\n",
       "   shape_dist_traveled  \n",
       "0             0.000000  \n",
       "1           723.017818  \n",
       "2          1951.735072  \n",
       "3          2899.073349  \n",
       "4          3927.090952  "
      ]
     },
     "execution_count": 58,
     "metadata": {},
     "output_type": "execute_result"
    }
   ],
   "source": [
    "stoptimes.head()"
   ]
  },
  {
   "cell_type": "code",
   "execution_count": 59,
   "metadata": {},
   "outputs": [],
   "source": [
    "# keeping the original data frames before merging \n",
    "route_o = routes.copy()\n",
    "trip_o = trip.copy()\n",
    "stoptimes_o = stoptimes.copy()"
   ]
  },
  {
   "cell_type": "code",
   "execution_count": 60,
   "metadata": {},
   "outputs": [
    {
     "name": "stderr",
     "output_type": "stream",
     "text": [
      "<ipython-input-60-8442368b5427>:1: UserWarning: Pandas doesn't allow columns to be created via a new attribute name - see https://pandas.pydata.org/pandas-docs/stable/indexing.html#attribute-access\n",
      "  calendar.weekdayFreq = calendar.apply(lambda x: sum(x.iloc[[1,2,3,4,5]]), axis = 1)\n"
     ]
    },
    {
     "data": {
      "text/plain": [
       "8    T0\n",
       "Name: service_id, dtype: object"
      ]
     },
     "execution_count": 60,
     "metadata": {},
     "output_type": "execute_result"
    }
   ],
   "source": [
    "calendar.weekdayFreq = calendar.apply(lambda x: sum(x.iloc[[1,2,3,4,5]]), axis = 1)\n",
    "# sum of the number of days in weekdays each service runs \n",
    "# if the service line runs every day between Monday to Friday, weekdayFreq equals 5\n",
    "calendar.service_id[calendar.weekdayFreq==5]\n",
    "# the service line ID who runs from Monday to Friday \n",
    "# T0 is the only service line that runs every single weekday"
   ]
  },
  {
   "cell_type": "code",
   "execution_count": 61,
   "metadata": {},
   "outputs": [],
   "source": [
    "trip =trip[trip.service_id=='T0']\n",
    "# filter out all the trips that are not run by T0 \n",
    "trip.drop(['service_id','shape_id'], axis = 1, inplace = True)\n",
    "# drop the columns that are not necessary for the wrangling process "
   ]
  },
  {
   "cell_type": "code",
   "execution_count": 62,
   "metadata": {
    "scrolled": false
   },
   "outputs": [
    {
     "name": "stderr",
     "output_type": "stream",
     "text": [
      "<ipython-input-62-0a040ad3185e>:1: SettingWithCopyWarning: \n",
      "A value is trying to be set on a copy of a slice from a DataFrame\n",
      "\n",
      "See the caveats in the documentation: https://pandas.pydata.org/pandas-docs/stable/user_guide/indexing.html#returning-a-view-versus-a-copy\n",
      "  estate.Transfer_flag[estate.Train_station_id == 19854] = 0\n",
      "<ipython-input-62-0a040ad3185e>:3: SettingWithCopyWarning: \n",
      "A value is trying to be set on a copy of a slice from a DataFrame\n",
      "\n",
      "See the caveats in the documentation: https://pandas.pydata.org/pandas-docs/stable/user_guide/indexing.html#returning-a-view-versus-a-copy\n",
      "  estate.travel_min_to_CBD[estate.Train_station_id == 19854] = 0\n"
     ]
    }
   ],
   "source": [
    "estate.Transfer_flag[estate.Train_station_id == 19854] = 0\n",
    "# all the properties whose nearest station is the Flinders Station itself will have the transfer_flat = 0 \n",
    "estate.travel_min_to_CBD[estate.Train_station_id == 19854] = 0\n",
    "# all the properties whose nearest station is the Flinders Station itself will have the travel minute to CBD = 0"
   ]
  },
  {
   "cell_type": "code",
   "execution_count": 63,
   "metadata": {},
   "outputs": [],
   "source": [
    "routes.drop(['route_type', 'agency_id', 'route_short_name'], axis = 1, inplace = True)\n",
    "# remove all the unncessary column from routes before merging the table "
   ]
  },
  {
   "cell_type": "code",
   "execution_count": 64,
   "metadata": {},
   "outputs": [],
   "source": [
    "trip = pd.merge(trip, routes, on = 'route_id')\n",
    "# merging from macrolevel to microlevel \n",
    "# inner merge with the route id "
   ]
  },
  {
   "cell_type": "code",
   "execution_count": 65,
   "metadata": {},
   "outputs": [],
   "source": [
    "stoptimes.drop(['stop_headsign','pickup_type','drop_off_type','shape_dist_traveled'], \n",
    "              axis=1, inplace = True)\n",
    "# drop the columns that are not necessary for the wrangling process "
   ]
  },
  {
   "cell_type": "code",
   "execution_count": 66,
   "metadata": {},
   "outputs": [],
   "source": [
    "stoptimes['departure_time']=pd.to_timedelta(stoptimes['departure_time'])\n",
    "stoptimes['arrival_time']=pd.to_timedelta(stoptimes['arrival_time'])\n",
    "# convert the string time variables into timedelta format in order to perform arithematic operation and \n",
    "# use logical equations "
   ]
  },
  {
   "cell_type": "code",
   "execution_count": 67,
   "metadata": {},
   "outputs": [],
   "source": [
    "stoptimes = stoptimes[(stoptimes.departure_time <='09:00:00')&\\\n",
    "         (stoptimes.departure_time >='07:00:00')]\n",
    "# filter out the itineraries outside of the range betwen 7 to 9am"
   ]
  },
  {
   "cell_type": "code",
   "execution_count": 68,
   "metadata": {},
   "outputs": [],
   "source": [
    "stoptimes = pd.merge(stoptimes, stops[['stop_id', 'stop_name']], on = 'stop_id')\n",
    "# merge the stop names with the stop times in order to verify the stations that the service line passes in a trip"
   ]
  },
  {
   "cell_type": "code",
   "execution_count": 69,
   "metadata": {},
   "outputs": [],
   "source": [
    "stoptimes = pd.merge(stoptimes, trip, on = 'trip_id')\n",
    "# merge from macro-level to microlevel \n",
    "# inner merge based on common column, the trip_id"
   ]
  },
  {
   "cell_type": "code",
   "execution_count": 70,
   "metadata": {},
   "outputs": [],
   "source": [
    "stoptimes = stoptimes[['route_id','trip_id', 'departure_time', 'arrival_time', 'stop_sequence',\\\n",
    "             'stop_id','stop_name','trip_headsign', 'direction_id','route_long_name']]\n",
    "# reorder the stoptimes column to a more relevant order of each column"
   ]
  },
  {
   "cell_type": "code",
   "execution_count": 71,
   "metadata": {},
   "outputs": [
    {
     "data": {
      "text/html": [
       "<div>\n",
       "<style scoped>\n",
       "    .dataframe tbody tr th:only-of-type {\n",
       "        vertical-align: middle;\n",
       "    }\n",
       "\n",
       "    .dataframe tbody tr th {\n",
       "        vertical-align: top;\n",
       "    }\n",
       "\n",
       "    .dataframe thead th {\n",
       "        text-align: right;\n",
       "    }\n",
       "</style>\n",
       "<table border=\"1\" class=\"dataframe\">\n",
       "  <thead>\n",
       "    <tr style=\"text-align: right;\">\n",
       "      <th></th>\n",
       "      <th>route_id</th>\n",
       "      <th>trip_id</th>\n",
       "      <th>departure_time</th>\n",
       "      <th>arrival_time</th>\n",
       "      <th>stop_sequence</th>\n",
       "      <th>stop_id</th>\n",
       "      <th>stop_name</th>\n",
       "      <th>trip_headsign</th>\n",
       "      <th>direction_id</th>\n",
       "      <th>route_long_name</th>\n",
       "    </tr>\n",
       "  </thead>\n",
       "  <tbody>\n",
       "    <tr>\n",
       "      <th>0</th>\n",
       "      <td>2-ALM-F-mjp-1</td>\n",
       "      <td>17068387.T0.2-ALM-F-mjp-1.2.H</td>\n",
       "      <td>0 days 07:10:00</td>\n",
       "      <td>0 days 07:10:00</td>\n",
       "      <td>6</td>\n",
       "      <td>19852</td>\n",
       "      <td>Riversdale Railway Station</td>\n",
       "      <td>City (Flinders Street)</td>\n",
       "      <td>0</td>\n",
       "      <td>Alamein - City (Flinders Street)</td>\n",
       "    </tr>\n",
       "    <tr>\n",
       "      <th>1</th>\n",
       "      <td>2-ALM-F-mjp-1</td>\n",
       "      <td>17068387.T0.2-ALM-F-mjp-1.2.H</td>\n",
       "      <td>0 days 07:13:00</td>\n",
       "      <td>0 days 07:13:00</td>\n",
       "      <td>7</td>\n",
       "      <td>19853</td>\n",
       "      <td>Camberwell Railway Station</td>\n",
       "      <td>City (Flinders Street)</td>\n",
       "      <td>0</td>\n",
       "      <td>Alamein - City (Flinders Street)</td>\n",
       "    </tr>\n",
       "    <tr>\n",
       "      <th>2</th>\n",
       "      <td>2-ALM-F-mjp-1</td>\n",
       "      <td>17068387.T0.2-ALM-F-mjp-1.2.H</td>\n",
       "      <td>0 days 07:01:00</td>\n",
       "      <td>0 days 07:01:00</td>\n",
       "      <td>1</td>\n",
       "      <td>19847</td>\n",
       "      <td>Alamein Railway Station</td>\n",
       "      <td>City (Flinders Street)</td>\n",
       "      <td>0</td>\n",
       "      <td>Alamein - City (Flinders Street)</td>\n",
       "    </tr>\n",
       "    <tr>\n",
       "      <th>3</th>\n",
       "      <td>2-ALM-F-mjp-1</td>\n",
       "      <td>17068387.T0.2-ALM-F-mjp-1.2.H</td>\n",
       "      <td>0 days 07:02:00</td>\n",
       "      <td>0 days 07:02:00</td>\n",
       "      <td>2</td>\n",
       "      <td>19848</td>\n",
       "      <td>Ashburton Railway Station</td>\n",
       "      <td>City (Flinders Street)</td>\n",
       "      <td>0</td>\n",
       "      <td>Alamein - City (Flinders Street)</td>\n",
       "    </tr>\n",
       "    <tr>\n",
       "      <th>4</th>\n",
       "      <td>2-ALM-F-mjp-1</td>\n",
       "      <td>17068387.T0.2-ALM-F-mjp-1.2.H</td>\n",
       "      <td>0 days 07:04:00</td>\n",
       "      <td>0 days 07:04:00</td>\n",
       "      <td>3</td>\n",
       "      <td>19849</td>\n",
       "      <td>Burwood Railway Station</td>\n",
       "      <td>City (Flinders Street)</td>\n",
       "      <td>0</td>\n",
       "      <td>Alamein - City (Flinders Street)</td>\n",
       "    </tr>\n",
       "  </tbody>\n",
       "</table>\n",
       "</div>"
      ],
      "text/plain": [
       "        route_id                        trip_id  departure_time  \\\n",
       "0  2-ALM-F-mjp-1  17068387.T0.2-ALM-F-mjp-1.2.H 0 days 07:10:00   \n",
       "1  2-ALM-F-mjp-1  17068387.T0.2-ALM-F-mjp-1.2.H 0 days 07:13:00   \n",
       "2  2-ALM-F-mjp-1  17068387.T0.2-ALM-F-mjp-1.2.H 0 days 07:01:00   \n",
       "3  2-ALM-F-mjp-1  17068387.T0.2-ALM-F-mjp-1.2.H 0 days 07:02:00   \n",
       "4  2-ALM-F-mjp-1  17068387.T0.2-ALM-F-mjp-1.2.H 0 days 07:04:00   \n",
       "\n",
       "     arrival_time  stop_sequence  stop_id                   stop_name  \\\n",
       "0 0 days 07:10:00              6    19852  Riversdale Railway Station   \n",
       "1 0 days 07:13:00              7    19853  Camberwell Railway Station   \n",
       "2 0 days 07:01:00              1    19847     Alamein Railway Station   \n",
       "3 0 days 07:02:00              2    19848   Ashburton Railway Station   \n",
       "4 0 days 07:04:00              3    19849     Burwood Railway Station   \n",
       "\n",
       "            trip_headsign  direction_id                   route_long_name  \n",
       "0  City (Flinders Street)             0  Alamein - City (Flinders Street)  \n",
       "1  City (Flinders Street)             0  Alamein - City (Flinders Street)  \n",
       "2  City (Flinders Street)             0  Alamein - City (Flinders Street)  \n",
       "3  City (Flinders Street)             0  Alamein - City (Flinders Street)  \n",
       "4  City (Flinders Street)             0  Alamein - City (Flinders Street)  "
      ]
     },
     "execution_count": 71,
     "metadata": {},
     "output_type": "execute_result"
    }
   ],
   "source": [
    "stoptimes.head()"
   ]
  },
  {
   "cell_type": "markdown",
   "metadata": {},
   "source": [
    "### 3.2 Trips and stops \n",
    "\n",
    "After merging four data frames, we obtained the trips that runs only during the weekdays, and filtered out the time frame that we do not need for the new columns. Additionally, we can see the ``stop_sequence`` of the ``stoptimes`` data frame shows us the order that each trains stops in each trip. To obtain the transfer flag and the travel duration, we need to figure out whether the nearest station of a property is involved in a trip that is heading towards Flinders Street Station, and whether the sequence of the nearest station is earlier than the sequence stop of the Flinders Street Station. \n",
    "\n",
    "Therefore, I sorted the data frame by ``trip_id``. For rows with identical ``trip_id``, I sorted them using ``stop_sequence``. A property with ``transfer_flag == 0`` satisfy the following property: \n",
    "\n",
    "1. The nearest station has a trip runs to Flinders Street Station \n",
    "2. Within the trip, the sequence of the nearest station should be earlier than the Flinders Street Station\n",
    "\n",
    "To identify this, I first created a dictionary ``trip_stop``, whose keys are the unique ``trip_id``, and the values are the tuples of stops involved within that trip."
   ]
  },
  {
   "cell_type": "code",
   "execution_count": 72,
   "metadata": {},
   "outputs": [],
   "source": [
    "stoptimes.sort_values(by = ['trip_id','stop_sequence'], inplace = True)\n",
    "# trip_id has a series of stop_sequence, which indicates the direction of a train's travel \n",
    "# sort the data frame based on the trip_id. If the trip_ids are identical, sort them based on the stop_sequence "
   ]
  },
  {
   "cell_type": "code",
   "execution_count": 73,
   "metadata": {},
   "outputs": [
    {
     "data": {
      "text/html": [
       "<div>\n",
       "<style scoped>\n",
       "    .dataframe tbody tr th:only-of-type {\n",
       "        vertical-align: middle;\n",
       "    }\n",
       "\n",
       "    .dataframe tbody tr th {\n",
       "        vertical-align: top;\n",
       "    }\n",
       "\n",
       "    .dataframe thead th {\n",
       "        text-align: right;\n",
       "    }\n",
       "</style>\n",
       "<table border=\"1\" class=\"dataframe\">\n",
       "  <thead>\n",
       "    <tr style=\"text-align: right;\">\n",
       "      <th></th>\n",
       "      <th>route_id</th>\n",
       "      <th>trip_id</th>\n",
       "      <th>departure_time</th>\n",
       "      <th>arrival_time</th>\n",
       "      <th>stop_sequence</th>\n",
       "      <th>stop_id</th>\n",
       "      <th>stop_name</th>\n",
       "      <th>trip_headsign</th>\n",
       "      <th>direction_id</th>\n",
       "      <th>route_long_name</th>\n",
       "    </tr>\n",
       "  </thead>\n",
       "  <tbody>\n",
       "    <tr>\n",
       "      <th>4211</th>\n",
       "      <td>2-EPP-F-mjp-1</td>\n",
       "      <td>17067064.T0.2-EPP-F-mjp-1.8.R</td>\n",
       "      <td>0 days 07:00:00</td>\n",
       "      <td>0 days 06:58:00</td>\n",
       "      <td>22</td>\n",
       "      <td>19854</td>\n",
       "      <td>Flinders Street Railway Station</td>\n",
       "      <td>City (Flinders Street)</td>\n",
       "      <td>1</td>\n",
       "      <td>City (Flinders Street) - South Morang</td>\n",
       "    </tr>\n",
       "    <tr>\n",
       "      <th>4210</th>\n",
       "      <td>2-EPP-F-mjp-1</td>\n",
       "      <td>17067064.T0.2-EPP-F-mjp-1.8.R</td>\n",
       "      <td>0 days 07:03:00</td>\n",
       "      <td>0 days 07:03:00</td>\n",
       "      <td>23</td>\n",
       "      <td>22180</td>\n",
       "      <td>Southern Cross Railway Station</td>\n",
       "      <td>City (Flinders Street)</td>\n",
       "      <td>1</td>\n",
       "      <td>City (Flinders Street) - South Morang</td>\n",
       "    </tr>\n",
       "    <tr>\n",
       "      <th>4209</th>\n",
       "      <td>2-EPP-F-mjp-1</td>\n",
       "      <td>17067064.T0.2-EPP-F-mjp-1.8.R</td>\n",
       "      <td>0 days 07:05:00</td>\n",
       "      <td>0 days 07:05:00</td>\n",
       "      <td>24</td>\n",
       "      <td>19841</td>\n",
       "      <td>Flagstaff Railway Station</td>\n",
       "      <td>City (Flinders Street)</td>\n",
       "      <td>1</td>\n",
       "      <td>City (Flinders Street) - South Morang</td>\n",
       "    </tr>\n",
       "    <tr>\n",
       "      <th>4208</th>\n",
       "      <td>2-EPP-F-mjp-1</td>\n",
       "      <td>17067064.T0.2-EPP-F-mjp-1.8.R</td>\n",
       "      <td>0 days 07:07:00</td>\n",
       "      <td>0 days 07:07:00</td>\n",
       "      <td>25</td>\n",
       "      <td>19842</td>\n",
       "      <td>Melbourne Central Railway Station</td>\n",
       "      <td>City (Flinders Street)</td>\n",
       "      <td>1</td>\n",
       "      <td>City (Flinders Street) - South Morang</td>\n",
       "    </tr>\n",
       "    <tr>\n",
       "      <th>4207</th>\n",
       "      <td>2-EPP-F-mjp-1</td>\n",
       "      <td>17067064.T0.2-EPP-F-mjp-1.8.R</td>\n",
       "      <td>0 days 07:08:00</td>\n",
       "      <td>0 days 07:08:00</td>\n",
       "      <td>26</td>\n",
       "      <td>19843</td>\n",
       "      <td>Parliament Railway Station</td>\n",
       "      <td>City (Flinders Street)</td>\n",
       "      <td>1</td>\n",
       "      <td>City (Flinders Street) - South Morang</td>\n",
       "    </tr>\n",
       "  </tbody>\n",
       "</table>\n",
       "</div>"
      ],
      "text/plain": [
       "           route_id                        trip_id  departure_time  \\\n",
       "4211  2-EPP-F-mjp-1  17067064.T0.2-EPP-F-mjp-1.8.R 0 days 07:00:00   \n",
       "4210  2-EPP-F-mjp-1  17067064.T0.2-EPP-F-mjp-1.8.R 0 days 07:03:00   \n",
       "4209  2-EPP-F-mjp-1  17067064.T0.2-EPP-F-mjp-1.8.R 0 days 07:05:00   \n",
       "4208  2-EPP-F-mjp-1  17067064.T0.2-EPP-F-mjp-1.8.R 0 days 07:07:00   \n",
       "4207  2-EPP-F-mjp-1  17067064.T0.2-EPP-F-mjp-1.8.R 0 days 07:08:00   \n",
       "\n",
       "        arrival_time  stop_sequence  stop_id  \\\n",
       "4211 0 days 06:58:00             22    19854   \n",
       "4210 0 days 07:03:00             23    22180   \n",
       "4209 0 days 07:05:00             24    19841   \n",
       "4208 0 days 07:07:00             25    19842   \n",
       "4207 0 days 07:08:00             26    19843   \n",
       "\n",
       "                              stop_name           trip_headsign  direction_id  \\\n",
       "4211    Flinders Street Railway Station  City (Flinders Street)             1   \n",
       "4210     Southern Cross Railway Station  City (Flinders Street)             1   \n",
       "4209          Flagstaff Railway Station  City (Flinders Street)             1   \n",
       "4208  Melbourne Central Railway Station  City (Flinders Street)             1   \n",
       "4207         Parliament Railway Station  City (Flinders Street)             1   \n",
       "\n",
       "                            route_long_name  \n",
       "4211  City (Flinders Street) - South Morang  \n",
       "4210  City (Flinders Street) - South Morang  \n",
       "4209  City (Flinders Street) - South Morang  \n",
       "4208  City (Flinders Street) - South Morang  \n",
       "4207  City (Flinders Street) - South Morang  "
      ]
     },
     "execution_count": 73,
     "metadata": {},
     "output_type": "execute_result"
    }
   ],
   "source": [
    "stoptimes.head()\n",
    "# data frame is sorted based on the trip_id and stop_sequence"
   ]
  },
  {
   "cell_type": "code",
   "execution_count": 74,
   "metadata": {},
   "outputs": [],
   "source": [
    "trip_stop = dict()\n",
    "# dictionary to keep the trip_id and all the stops that are involved within that particular trip \n",
    "# the key is the trip_id, and the value to each key is a tuple of all the stops involved in the trip \n",
    "\n",
    "for i in pd.unique(stoptimes.trip_id): \n",
    "# looping through each unique trip_id\n",
    "    trip_stop[i] = tuple(stoptimes.stop_id[stoptimes.trip_id==i])\n",
    "    # the stop_ids in the unique trip_id is stored as a tuple\n",
    "    # the tuple is not mutable, but can the input values in order of sequence\n",
    "    # it's a better choice to maintain the stop_sequence of a trip while recording all the stops involved "
   ]
  },
  {
   "cell_type": "code",
   "execution_count": 75,
   "metadata": {},
   "outputs": [
    {
     "name": "stdout",
     "output_type": "stream",
     "text": [
      "20016 20017 20019 19974 19975 19976 19977 19978 19979 19854 22180 19841 19842 19843\n"
     ]
    }
   ],
   "source": [
    "print(*trip_stop['17067069.T0.2-EPP-F-mjp-1.8.R'])"
   ]
  },
  {
   "cell_type": "code",
   "execution_count": 76,
   "metadata": {},
   "outputs": [
    {
     "name": "stdout",
     "output_type": "stream",
     "text": [
      "Trip ID 17067064.T0.2-EPP-F-mjp-1.8.R travels via:\n",
      "\n",
      "19854-Flinders Street Railway Station\n",
      "22180-Southern Cross Railway Station\n",
      "19841-Flagstaff Railway Station\n",
      "19842-Melbourne Central Railway Station\n",
      "19843-Parliament Railway Station\n",
      "\n",
      " 4211      Flinders Street Railway Station\n",
      "4210       Southern Cross Railway Station\n",
      "4209            Flagstaff Railway Station\n",
      "4208    Melbourne Central Railway Station\n",
      "4207           Parliament Railway Station\n",
      "Name: stop_name, dtype: object\n"
     ]
    }
   ],
   "source": [
    "print('Trip ID 17067064.T0.2-EPP-F-mjp-1.8.R travels via:\\n')\n",
    "print('\\n'.join('{}-{}'.format(stop, stops.stop_name[stops.stop_id == stop].values[0]) \\\n",
    "                for stop in trip_stop['17067064.T0.2-EPP-F-mjp-1.8.R']))\n",
    "\n",
    "print('\\n',stoptimes.stop_name[stoptimes.trip_id == '17067064.T0.2-EPP-F-mjp-1.8.R'])\n",
    "\n",
    "# the sequence of stops stored in the tuple matches the sequence in the stop_times data frame "
   ]
  },
  {
   "cell_type": "markdown",
   "metadata": {},
   "source": [
    "### 3.3 Transfer Flag\n",
    "\n",
    "A property with ``transfer_flag == 0`` satisfy the following property: \n",
    "\n",
    "1. The nearest station has a trip runs to Flinders Street Station \n",
    "2. Within the trip, the sequence of the nearest station should be earlier than the Flinders Street Station\n",
    "\n",
    "This means that we need first to check (1) if a tuple of a trip includes the ``stop_id`` of the nearest station of a property. If so, (2) we need to check if the tuple has the ``stop_id`` of the Flinders Street Station. If this is satisfied, (3) we need to see whether the index of the ``stop_id`` of the nearest station is smaller than the index of the ``stop_id`` of the Flinders Street Station. \n",
    "\n",
    "If these three conditions are satisfied in order, the ``transfer_flag`` of the property is $0$."
   ]
  },
  {
   "cell_type": "code",
   "execution_count": 77,
   "metadata": {},
   "outputs": [],
   "source": [
    "property_trip = dict()\n",
    "# the dictionary to store the trips each stop is involved \n",
    "# the the key of this dictionary is the property ID, and the values are the trips that the nearest station of \n",
    "# each property is involved \n",
    "\n",
    "\n",
    "for i in range(estate.shape[0]): \n",
    "# looping through each property \n",
    "    \n",
    "    property_trip[estate.loc[i,'property_id']] = set()\n",
    "    # the key to the dictionary is each property ID \n",
    "    # the value to each key is a set of trip ID that the nearest station to the property is involved \n",
    "    \n",
    "    for eachTrip in trip_stop.keys(): \n",
    "    # loop through the dictionary with each trip and stop involved in each trip \n",
    "        \n",
    "        if estate.loc[i,'Train_station_id'] in trip_stop[eachTrip] and \\\n",
    "        19854 in trip_stop[eachTrip] and\\\n",
    "        trip_stop[eachTrip].index(estate.loc[i,'Train_station_id']) < trip_stop[eachTrip].index(19854): \n",
    "        # if the nearest station ID AND the ID of the Flinders Street Station are all involved in the trip \n",
    "        # the index of the station ID of the nearest station from the property should be less than that of Flinders \n",
    "        # station. Otherwise, we are counting the trip from Flinders Street Station to the property \n",
    "            \n",
    "            estate.loc[i,'Transfer_flag'] = 0\n",
    "            # if a trip satisfies three conditions above, it implies that the nearest station to the property \n",
    "            # has a direct trip to Flinders Street Station \n",
    "            property_trip[estate.loc[i,'property_id']].add(eachTrip)\n",
    "            # the key to the dictionary is the property ID of each property in estate data frame \n",
    "            # the value is the set of unique ID of each trip that runs through the nearest station from the property "
   ]
  },
  {
   "cell_type": "code",
   "execution_count": 78,
   "metadata": {},
   "outputs": [
    {
     "data": {
      "text/html": [
       "<div>\n",
       "<style scoped>\n",
       "    .dataframe tbody tr th:only-of-type {\n",
       "        vertical-align: middle;\n",
       "    }\n",
       "\n",
       "    .dataframe tbody tr th {\n",
       "        vertical-align: top;\n",
       "    }\n",
       "\n",
       "    .dataframe thead th {\n",
       "        text-align: right;\n",
       "    }\n",
       "</style>\n",
       "<table border=\"1\" class=\"dataframe\">\n",
       "  <thead>\n",
       "    <tr style=\"text-align: right;\">\n",
       "      <th></th>\n",
       "      <th>addr_street</th>\n",
       "      <th>property_id</th>\n",
       "      <th>parking_space</th>\n",
       "      <th>bedrooms</th>\n",
       "      <th>bathrooms</th>\n",
       "      <th>price</th>\n",
       "      <th>year</th>\n",
       "      <th>lng</th>\n",
       "      <th>lat</th>\n",
       "      <th>property_type</th>\n",
       "      <th>...</th>\n",
       "      <th>Train_station_id</th>\n",
       "      <th>Distance_to_sc</th>\n",
       "      <th>travel_min_to_CBD</th>\n",
       "      <th>Transfer_flag</th>\n",
       "      <th>Hospital_id</th>\n",
       "      <th>Distance_to_hospital</th>\n",
       "      <th>Supermarket_id</th>\n",
       "      <th>Distance_to_supermarket</th>\n",
       "      <th>Distance_to_train_station</th>\n",
       "      <th>suburb</th>\n",
       "    </tr>\n",
       "  </thead>\n",
       "  <tbody>\n",
       "    <tr>\n",
       "      <th>107</th>\n",
       "      <td>23 Central Park Avenue</td>\n",
       "      <td>11262</td>\n",
       "      <td>2</td>\n",
       "      <td>3</td>\n",
       "      <td>2</td>\n",
       "      <td>5008000</td>\n",
       "      <td>2014</td>\n",
       "      <td>144.876637</td>\n",
       "      <td>-37.771402</td>\n",
       "      <td>house</td>\n",
       "      <td>...</td>\n",
       "      <td>20027</td>\n",
       "      <td>821</td>\n",
       "      <td>0</td>\n",
       "      <td>-1</td>\n",
       "      <td>hospital_003</td>\n",
       "      <td>2566</td>\n",
       "      <td>S_049</td>\n",
       "      <td>1127</td>\n",
       "      <td>3242</td>\n",
       "      <td>Maribyrnong</td>\n",
       "    </tr>\n",
       "    <tr>\n",
       "      <th>1517</th>\n",
       "      <td>27 Wattle Road</td>\n",
       "      <td>2083</td>\n",
       "      <td>2</td>\n",
       "      <td>3</td>\n",
       "      <td>2</td>\n",
       "      <td>12432000</td>\n",
       "      <td>2016</td>\n",
       "      <td>144.882305</td>\n",
       "      <td>-37.777792</td>\n",
       "      <td>house</td>\n",
       "      <td>...</td>\n",
       "      <td>20027</td>\n",
       "      <td>637</td>\n",
       "      <td>0</td>\n",
       "      <td>-1</td>\n",
       "      <td>hospital_003</td>\n",
       "      <td>1716</td>\n",
       "      <td>S_049</td>\n",
       "      <td>796</td>\n",
       "      <td>2459</td>\n",
       "      <td>Maidstone</td>\n",
       "    </tr>\n",
       "  </tbody>\n",
       "</table>\n",
       "<p>2 rows × 21 columns</p>\n",
       "</div>"
      ],
      "text/plain": [
       "                 addr_street property_id parking_space bedrooms bathrooms  \\\n",
       "107   23 Central Park Avenue       11262             2        3         2   \n",
       "1517          27 Wattle Road        2083             2        3         2   \n",
       "\n",
       "         price  year         lng        lat property_type  ...  \\\n",
       "107    5008000  2014  144.876637 -37.771402         house  ...   \n",
       "1517  12432000  2016  144.882305 -37.777792         house  ...   \n",
       "\n",
       "     Train_station_id  Distance_to_sc  travel_min_to_CBD  Transfer_flag  \\\n",
       "107             20027             821                  0             -1   \n",
       "1517            20027             637                  0             -1   \n",
       "\n",
       "       Hospital_id Distance_to_hospital  Supermarket_id  \\\n",
       "107   hospital_003                 2566           S_049   \n",
       "1517  hospital_003                 1716           S_049   \n",
       "\n",
       "     Distance_to_supermarket  Distance_to_train_station       suburb  \n",
       "107                     1127                       3242  Maribyrnong  \n",
       "1517                     796                       2459    Maidstone  \n",
       "\n",
       "[2 rows x 21 columns]"
      ]
     },
     "execution_count": 78,
     "metadata": {},
     "output_type": "execute_result"
    }
   ],
   "source": [
    "estate[estate.Transfer_flag!=0]\n",
    "# two properties are not directly reachable to Flinders Street Station.\n",
    "# we can inspect the trips that involves their stop_id"
   ]
  },
  {
   "cell_type": "code",
   "execution_count": 79,
   "metadata": {},
   "outputs": [
    {
     "data": {
      "text/html": [
       "<div>\n",
       "<style scoped>\n",
       "    .dataframe tbody tr th:only-of-type {\n",
       "        vertical-align: middle;\n",
       "    }\n",
       "\n",
       "    .dataframe tbody tr th {\n",
       "        vertical-align: top;\n",
       "    }\n",
       "\n",
       "    .dataframe thead th {\n",
       "        text-align: right;\n",
       "    }\n",
       "</style>\n",
       "<table border=\"1\" class=\"dataframe\">\n",
       "  <thead>\n",
       "    <tr style=\"text-align: right;\">\n",
       "      <th></th>\n",
       "      <th>stop_id</th>\n",
       "      <th>stop_name</th>\n",
       "      <th>stop_short_name</th>\n",
       "      <th>stop_lat</th>\n",
       "      <th>stop_lon</th>\n",
       "    </tr>\n",
       "  </thead>\n",
       "  <tbody>\n",
       "    <tr>\n",
       "      <th>195</th>\n",
       "      <td>20027</td>\n",
       "      <td>Flemington Racecourse Railway Station</td>\n",
       "      <td>Flemington</td>\n",
       "      <td>-37.787202</td>\n",
       "      <td>144.907589</td>\n",
       "    </tr>\n",
       "  </tbody>\n",
       "</table>\n",
       "</div>"
      ],
      "text/plain": [
       "     stop_id                              stop_name stop_short_name  \\\n",
       "195    20027  Flemington Racecourse Railway Station      Flemington   \n",
       "\n",
       "      stop_lat    stop_lon  \n",
       "195 -37.787202  144.907589  "
      ]
     },
     "execution_count": 79,
     "metadata": {},
     "output_type": "execute_result"
    }
   ],
   "source": [
    "stops[stops.stop_id == 20027]"
   ]
  },
  {
   "cell_type": "code",
   "execution_count": 80,
   "metadata": {},
   "outputs": [
    {
     "data": {
      "text/html": [
       "<div>\n",
       "<style scoped>\n",
       "    .dataframe tbody tr th:only-of-type {\n",
       "        vertical-align: middle;\n",
       "    }\n",
       "\n",
       "    .dataframe tbody tr th {\n",
       "        vertical-align: top;\n",
       "    }\n",
       "\n",
       "    .dataframe thead th {\n",
       "        text-align: right;\n",
       "    }\n",
       "</style>\n",
       "<table border=\"1\" class=\"dataframe\">\n",
       "  <thead>\n",
       "    <tr style=\"text-align: right;\">\n",
       "      <th></th>\n",
       "      <th>trip_id</th>\n",
       "      <th>arrival_time</th>\n",
       "      <th>departure_time</th>\n",
       "      <th>stop_id</th>\n",
       "      <th>stop_sequence</th>\n",
       "      <th>stop_headsign</th>\n",
       "      <th>pickup_type</th>\n",
       "      <th>drop_off_type</th>\n",
       "      <th>shape_dist_traveled</th>\n",
       "    </tr>\n",
       "  </thead>\n",
       "  <tbody>\n",
       "    <tr>\n",
       "      <th>390202</th>\n",
       "      <td>17199141.T2.2-ain-mjp-1.2.H</td>\n",
       "      <td>18:13:00</td>\n",
       "      <td>18:13:00</td>\n",
       "      <td>20027</td>\n",
       "      <td>7</td>\n",
       "      <td>NaN</td>\n",
       "      <td>0</td>\n",
       "      <td>0</td>\n",
       "      <td>8069.390923</td>\n",
       "    </tr>\n",
       "    <tr>\n",
       "      <th>390303</th>\n",
       "      <td>17199142.T2.2-ain-mjp-1.5.R</td>\n",
       "      <td>24:00:00</td>\n",
       "      <td>24:00:00</td>\n",
       "      <td>20027</td>\n",
       "      <td>1</td>\n",
       "      <td>NaN</td>\n",
       "      <td>0</td>\n",
       "      <td>0</td>\n",
       "      <td>0.000000</td>\n",
       "    </tr>\n",
       "  </tbody>\n",
       "</table>\n",
       "</div>"
      ],
      "text/plain": [
       "                            trip_id arrival_time departure_time  stop_id  \\\n",
       "390202  17199141.T2.2-ain-mjp-1.2.H     18:13:00       18:13:00    20027   \n",
       "390303  17199142.T2.2-ain-mjp-1.5.R     24:00:00       24:00:00    20027   \n",
       "\n",
       "        stop_sequence  stop_headsign  pickup_type  drop_off_type  \\\n",
       "390202              7            NaN            0              0   \n",
       "390303              1            NaN            0              0   \n",
       "\n",
       "        shape_dist_traveled  \n",
       "390202          8069.390923  \n",
       "390303             0.000000  "
      ]
     },
     "execution_count": 80,
     "metadata": {},
     "output_type": "execute_result"
    }
   ],
   "source": [
    "stoptimes_o[stoptimes_o.stop_id == 20027]\n",
    "# the trips running through stop with ID 20027 does not run within the timeframe of 7 to 9am, and thus \n",
    "# the Transfer_flag is -1 and the calculation of travel_min_to_CBD is omitted. "
   ]
  },
  {
   "cell_type": "markdown",
   "metadata": {},
   "source": [
    "### 3.4 Trip Duration\n",
    "\n",
    "After filling out the ``Transfer_flag`` and inspect the omitted rows, we can calculate the average travel duration from the nearest station of each property to the Flinders Station. Luckily, except for two aforementioned properties, all the nearest station of all the properties are directly reachable to Flinders Station. For all the values in ``travel_min_to_CBD``, only the average of direct transfers are calculated. To do so, first we should obtain ALL the trips that runs through the nearest station to each properties, whose ``Transfer_flag ==0``. This is done above already using ``property_trip`` dictionary. \n",
    "\n",
    "For each trip that runs through each nearest stops, we need to obtain the departure time from the nearst station and the arrival time at the Flinders Station. The difference of these two values is then recorded, and the mean of all trips are recorded as the ``travel_min_to_CBD`` values. ``timedelta`` date formats imported from ``datetime`` library supports arithematic operation between two time values. ``numpy`` supports the arithematic operation of ``timedelta`` variables, and thus the mean of all the travel durations are calcualted using ``numpy.mean()`` function. "
   ]
  },
  {
   "cell_type": "code",
   "execution_count": 81,
   "metadata": {},
   "outputs": [
    {
     "name": "stderr",
     "output_type": "stream",
     "text": [
      "/Users/dahyekim/opt/anaconda3/lib/python3.7/site-packages/ipykernel_launcher.py:32: SettingWithCopyWarning: \n",
      "A value is trying to be set on a copy of a slice from a DataFrame\n",
      "\n",
      "See the caveats in the documentation: https://pandas.pydata.org/pandas-docs/stable/user_guide/indexing.html#returning-a-view-versus-a-copy\n",
      "/Users/dahyekim/opt/anaconda3/lib/python3.7/site-packages/numpy/core/fromnumeric.py:3335: RuntimeWarning: Mean of empty slice.\n",
      "  out=out, **kwargs)\n",
      "/Users/dahyekim/opt/anaconda3/lib/python3.7/site-packages/numpy/core/_methods.py:161: RuntimeWarning: invalid value encountered in double_scalars\n",
      "  ret = ret.dtype.type(ret / rcount)\n"
     ]
    }
   ],
   "source": [
    "directlyTransferrable = estate[estate.Transfer_flag == 0]\n",
    "# extract the properties whose nearest stations offer direct trip to Flinders Street Station \n",
    "\n",
    "for propertyID in property_trip.keys(): \n",
    "# loop through each property ID in property_trip dictionary \n",
    "    \n",
    "    durations = list()\n",
    "    # for each property ID, we create an empty list to append the duration of each trip that runs through \n",
    "    # the nearest station from the property \n",
    "\n",
    "    for eachTrip in property_trip[propertyID]: \n",
    "    # loop through each trip ID that runs through each property \n",
    "        \n",
    "        startingStop = directlyTransferrable.Train_station_id[directlyTransferrable.property_id == propertyID]\n",
    "        # starting stop is the ID of the nearest station from each property \n",
    "        endingStop = 19854\n",
    "        # ending stop is the stop ID of Flinders Street Station \n",
    "        \n",
    "        depTime = stoptimes.departure_time[(stoptimes.trip_id == eachTrip)&\\\n",
    "                                          (stoptimes.stop_id == int(startingStop))]\n",
    "        # departure time - the departure time of the train at the nearest station of each respective trip \n",
    "        \n",
    "        arrvTime = stoptimes.arrival_time[(stoptimes.trip_id == eachTrip)&\\\n",
    "                                          (stoptimes.stop_id == endingStop)]\n",
    "        # arrival time - the arrival time at the Flinders Station departed from the nearest station at each trip \n",
    "        \n",
    "        durations.append(arrvTime.values[0] - depTime.values[0])\n",
    "        # append the duration of each trip to the durations list \n",
    "        # the difference might have identical values, and thus we cannot use set \n",
    "        # tuples are immutable, and thus I chose list to hold all the durations of trips\n",
    "\n",
    "    estate.travel_min_to_CBD[estate.property_id == propertyID] = np.mean(durations)\n",
    "    # np.mean() supports the mean calculation of all the timedelta variables stored in an array \n",
    "    # fill the travel_min_to_CBD column in respect to each property after calculating the mean travel duration "
   ]
  },
  {
   "cell_type": "code",
   "execution_count": 82,
   "metadata": {},
   "outputs": [
    {
     "name": "stderr",
     "output_type": "stream",
     "text": [
      "/Users/dahyekim/opt/anaconda3/lib/python3.7/site-packages/ipykernel_launcher.py:3: SettingWithCopyWarning: \n",
      "A value is trying to be set on a copy of a slice from a DataFrame\n",
      "\n",
      "See the caveats in the documentation: https://pandas.pydata.org/pandas-docs/stable/user_guide/indexing.html#returning-a-view-versus-a-copy\n",
      "  This is separate from the ipykernel package so we can avoid doing imports until\n"
     ]
    }
   ],
   "source": [
    "estate.travel_min_to_CBD = estate.travel_min_to_CBD.apply(lambda x: round(x.seconds/60,0))\n",
    "# round the mean duration to integer\n",
    "estate.travel_min_to_CBD[estate.travel_min_to_CBD.isna()] = 0\n",
    "# since there is no trips offered within the specified timeframe, the column is assigned with 0.\n",
    "estate.travel_min_to_CBD = estate.travel_min_to_CBD.apply(lambda x: int(x))"
   ]
  },
  {
   "cell_type": "code",
   "execution_count": 83,
   "metadata": {},
   "outputs": [
    {
     "data": {
      "text/html": [
       "<div>\n",
       "<style scoped>\n",
       "    .dataframe tbody tr th:only-of-type {\n",
       "        vertical-align: middle;\n",
       "    }\n",
       "\n",
       "    .dataframe tbody tr th {\n",
       "        vertical-align: top;\n",
       "    }\n",
       "\n",
       "    .dataframe thead th {\n",
       "        text-align: right;\n",
       "    }\n",
       "</style>\n",
       "<table border=\"1\" class=\"dataframe\">\n",
       "  <thead>\n",
       "    <tr style=\"text-align: right;\">\n",
       "      <th></th>\n",
       "      <th>lng</th>\n",
       "      <th>bathrooms</th>\n",
       "      <th>property_type</th>\n",
       "      <th>year</th>\n",
       "      <th>bedrooms</th>\n",
       "      <th>addr_street</th>\n",
       "      <th>price</th>\n",
       "      <th>parking_space</th>\n",
       "      <th>property_id</th>\n",
       "      <th>lat</th>\n",
       "      <th>...</th>\n",
       "      <th>Train_station_id</th>\n",
       "      <th>Distance_to_sc</th>\n",
       "      <th>travel_min_to_CBD</th>\n",
       "      <th>Transfer_flag</th>\n",
       "      <th>Hospital_id</th>\n",
       "      <th>Distance_to_hospital</th>\n",
       "      <th>Supermarket_id</th>\n",
       "      <th>Distance_to_supermarket</th>\n",
       "      <th>Distance_to_train_station</th>\n",
       "      <th>suburb</th>\n",
       "    </tr>\n",
       "  </thead>\n",
       "  <tbody>\n",
       "    <tr>\n",
       "      <th>0</th>\n",
       "      <td>144.925823</td>\n",
       "      <td>2</td>\n",
       "      <td>house</td>\n",
       "      <td>2010</td>\n",
       "      <td>5</td>\n",
       "      <td>53 Creekwood Drive</td>\n",
       "      <td>7520000</td>\n",
       "      <td>2</td>\n",
       "      <td>27243</td>\n",
       "      <td>-37.586133</td>\n",
       "      <td>...</td>\n",
       "      <td>40221</td>\n",
       "      <td>1297</td>\n",
       "      <td>46</td>\n",
       "      <td>0</td>\n",
       "      <td>hospital_041</td>\n",
       "      <td>16840</td>\n",
       "      <td>S_178</td>\n",
       "      <td>1135</td>\n",
       "      <td>2330</td>\n",
       "      <td>Craigieburn</td>\n",
       "    </tr>\n",
       "    <tr>\n",
       "      <th>1</th>\n",
       "      <td>144.867456</td>\n",
       "      <td>1</td>\n",
       "      <td>house</td>\n",
       "      <td>2010</td>\n",
       "      <td>3</td>\n",
       "      <td>7 Graham Street</td>\n",
       "      <td>11509000</td>\n",
       "      <td>1</td>\n",
       "      <td>4626</td>\n",
       "      <td>-37.839729</td>\n",
       "      <td>...</td>\n",
       "      <td>19994</td>\n",
       "      <td>2329</td>\n",
       "      <td>20</td>\n",
       "      <td>0</td>\n",
       "      <td>hospital_003</td>\n",
       "      <td>5620</td>\n",
       "      <td>S_056</td>\n",
       "      <td>1909</td>\n",
       "      <td>1458</td>\n",
       "      <td>Newport</td>\n",
       "    </tr>\n",
       "    <tr>\n",
       "      <th>2</th>\n",
       "      <td>145.204568</td>\n",
       "      <td>1</td>\n",
       "      <td>house</td>\n",
       "      <td>2014</td>\n",
       "      <td>3</td>\n",
       "      <td>36 Linlithgow Street</td>\n",
       "      <td>7048000</td>\n",
       "      <td>2</td>\n",
       "      <td>59897</td>\n",
       "      <td>-37.822338</td>\n",
       "      <td>...</td>\n",
       "      <td>19901</td>\n",
       "      <td>2223</td>\n",
       "      <td>42</td>\n",
       "      <td>0</td>\n",
       "      <td>hospital_010</td>\n",
       "      <td>1612</td>\n",
       "      <td>S_040</td>\n",
       "      <td>2421</td>\n",
       "      <td>818</td>\n",
       "      <td>Mitcham</td>\n",
       "    </tr>\n",
       "    <tr>\n",
       "      <th>3</th>\n",
       "      <td>145.038746</td>\n",
       "      <td>2</td>\n",
       "      <td>house</td>\n",
       "      <td>2010</td>\n",
       "      <td>3</td>\n",
       "      <td>1a Lara Street</td>\n",
       "      <td>15620000</td>\n",
       "      <td>2</td>\n",
       "      <td>68890</td>\n",
       "      <td>-37.848827</td>\n",
       "      <td>...</td>\n",
       "      <td>19911</td>\n",
       "      <td>2833</td>\n",
       "      <td>15</td>\n",
       "      <td>0</td>\n",
       "      <td>hospital_012</td>\n",
       "      <td>3574</td>\n",
       "      <td>S_235</td>\n",
       "      <td>1531</td>\n",
       "      <td>269</td>\n",
       "      <td>Malvern</td>\n",
       "    </tr>\n",
       "    <tr>\n",
       "      <th>4</th>\n",
       "      <td>144.908492</td>\n",
       "      <td>3</td>\n",
       "      <td>house</td>\n",
       "      <td>2012</td>\n",
       "      <td>4</td>\n",
       "      <td>7 Scott Street</td>\n",
       "      <td>16200000</td>\n",
       "      <td>2</td>\n",
       "      <td>14750</td>\n",
       "      <td>-37.756802</td>\n",
       "      <td>...</td>\n",
       "      <td>20037</td>\n",
       "      <td>2504</td>\n",
       "      <td>21</td>\n",
       "      <td>0</td>\n",
       "      <td>hospital_007</td>\n",
       "      <td>2402</td>\n",
       "      <td>S_197</td>\n",
       "      <td>1377</td>\n",
       "      <td>684</td>\n",
       "      <td>Essendon</td>\n",
       "    </tr>\n",
       "  </tbody>\n",
       "</table>\n",
       "<p>5 rows × 21 columns</p>\n",
       "</div>"
      ],
      "text/plain": [
       "          lng bathrooms property_type  year bedrooms           addr_street  \\\n",
       "0  144.925823         2         house  2010        5    53 Creekwood Drive   \n",
       "1  144.867456         1         house  2010        3       7 Graham Street   \n",
       "2  145.204568         1         house  2014        3  36 Linlithgow Street   \n",
       "3  145.038746         2         house  2010        3        1a Lara Street   \n",
       "4  144.908492         3         house  2012        4        7 Scott Street   \n",
       "\n",
       "      price parking_space property_id        lat  ... Train_station_id  \\\n",
       "0   7520000             2       27243 -37.586133  ...            40221   \n",
       "1  11509000             1        4626 -37.839729  ...            19994   \n",
       "2   7048000             2       59897 -37.822338  ...            19901   \n",
       "3  15620000             2       68890 -37.848827  ...            19911   \n",
       "4  16200000             2       14750 -37.756802  ...            20037   \n",
       "\n",
       "   Distance_to_sc  travel_min_to_CBD  Transfer_flag   Hospital_id  \\\n",
       "0            1297                 46              0  hospital_041   \n",
       "1            2329                 20              0  hospital_003   \n",
       "2            2223                 42              0  hospital_010   \n",
       "3            2833                 15              0  hospital_012   \n",
       "4            2504                 21              0  hospital_007   \n",
       "\n",
       "  Distance_to_hospital  Supermarket_id Distance_to_supermarket  \\\n",
       "0                16840           S_178                    1135   \n",
       "1                 5620           S_056                    1909   \n",
       "2                 1612           S_040                    2421   \n",
       "3                 3574           S_235                    1531   \n",
       "4                 2402           S_197                    1377   \n",
       "\n",
       "   Distance_to_train_station       suburb  \n",
       "0                       2330  Craigieburn  \n",
       "1                       1458      Newport  \n",
       "2                        818      Mitcham  \n",
       "3                        269      Malvern  \n",
       "4                        684     Essendon  \n",
       "\n",
       "[5 rows x 21 columns]"
      ]
     },
     "execution_count": 83,
     "metadata": {},
     "output_type": "execute_result"
    }
   ],
   "source": [
    "estate.head()"
   ]
  },
  {
   "cell_type": "code",
   "execution_count": 84,
   "metadata": {},
   "outputs": [],
   "source": [
    "estate.to_csv('31356508_A3_solution.csv', index = False)"
   ]
  },
  {
   "cell_type": "markdown",
   "metadata": {},
   "source": [
    "# Part 2. Data Reshaping\n",
    "\n",
    "If we are planning to build a linear regression model that predicts ``price`` based on ``Distance_to_sc``, ``travel_min_to_CBD``, and ``Distance_to_hospital``, we need to make some assumptions regarding the predictor and target variables. In this section, we try to explore the distributions of all the predictor and target variables, and perform transformation and scaling if necessary. The purpose of the reshaping is to satisfy **linearity** and **normality** assumptions. \n",
    "\n",
    "For **linearity** assumption to be satisfied, I decided to check if there is a linear relationship between the target variable, ``price``, and all the target variables. \n",
    "\n",
    "For the **normality** assumption, I first checked the distribution of the target variable and all the predictor variables. If the data points of any attribute is not normally distributed, I implement a transformation based on the direction of skewness of the distribution of the predictor variable. \n",
    "\n",
    "Finally, to enhance the statistical interpretation of the linear regression model, I will check if the predictor variables should be scaled. Scaling standardises the center and the range of predictor attributes to a common scale. Depending on the scaling mechanism, the range and the centre could differ. This **does not** change the distribution or the predictive power of the model, but it changes the regression coefficient of the predictor variables in the model, and thus could either over- or underestimate the significance of a predictor variable, which could eventually lead to a misleading conclusion in statistical interpretation of the linear regression model. \n",
    "\n",
    "To start with, I created a seperate data frame that only contains the necessary attribute for building the model - three predictor variables, ``Distance_to_sc``, ``travel_min_to_CBD``, and ``Distance_to_hospital``, and one target variable, ``price``."
   ]
  },
  {
   "cell_type": "code",
   "execution_count": 85,
   "metadata": {},
   "outputs": [],
   "source": [
    "reshapingData = estate[['price','Distance_to_sc','travel_min_to_CBD','Distance_to_hospital']]\n",
    "# select the column for testing only in order to keep the original data frame "
   ]
  },
  {
   "cell_type": "code",
   "execution_count": 86,
   "metadata": {},
   "outputs": [
    {
     "name": "stdout",
     "output_type": "stream",
     "text": [
      "<class 'pandas.core.frame.DataFrame'>\n",
      "RangeIndex: 2008 entries, 0 to 2007\n",
      "Data columns (total 4 columns):\n",
      " #   Column                Non-Null Count  Dtype \n",
      "---  ------                --------------  ----- \n",
      " 0   price                 2008 non-null   object\n",
      " 1   Distance_to_sc        2008 non-null   int64 \n",
      " 2   travel_min_to_CBD     2008 non-null   int64 \n",
      " 3   Distance_to_hospital  2008 non-null   int64 \n",
      "dtypes: int64(3), object(1)\n",
      "memory usage: 62.9+ KB\n"
     ]
    }
   ],
   "source": [
    "reshapingData.info()\n",
    "# the data type of price is not numeric."
   ]
  },
  {
   "cell_type": "code",
   "execution_count": 87,
   "metadata": {},
   "outputs": [
    {
     "name": "stderr",
     "output_type": "stream",
     "text": [
      "/Users/dahyekim/opt/anaconda3/lib/python3.7/site-packages/ipykernel_launcher.py:1: SettingWithCopyWarning: \n",
      "A value is trying to be set on a copy of a slice from a DataFrame.\n",
      "Try using .loc[row_indexer,col_indexer] = value instead\n",
      "\n",
      "See the caveats in the documentation: https://pandas.pydata.org/pandas-docs/stable/user_guide/indexing.html#returning-a-view-versus-a-copy\n",
      "  \"\"\"Entry point for launching an IPython kernel.\n"
     ]
    }
   ],
   "source": [
    "reshapingData['price'] = reshapingData['price'].apply(lambda x: float(x))\n",
    "# convert the target to a numeric variable "
   ]
  },
  {
   "cell_type": "markdown",
   "metadata": {},
   "source": [
    "## 2.1 Linearity\n",
    "\n",
    "Linearity refers to a linear relationship between two variables. To test the linearity between the target variable and all the possibhle features, we can either check the distribution of the residuals or the linearity between the target and every single feature. I adopted the second approach since the linear relationship between the predictors and the target is not assumed. \n",
    "\n",
    "We first start off by creating scatter plots showing the relationship between $Price \\sim Features$."
   ]
  },
  {
   "cell_type": "code",
   "execution_count": 88,
   "metadata": {},
   "outputs": [
    {
     "data": {
      "image/png": "[encoded data removed]",
      "text/plain": [
       "<Figure size 432x288 with 1 Axes>"
      ]
     },
     "metadata": {
      "needs_background": "light"
     },
     "output_type": "display_data"
    },
    {
     "data": {
      "image/png": "[encoded data removed]",
      "text/plain": [
       "<Figure size 432x288 with 1 Axes>"
      ]
     },
     "metadata": {
      "needs_background": "light"
     },
     "output_type": "display_data"
    },
    {
     "data": {
      "image/png": "[encoded data removed]",
      "text/plain": [
       "<Figure size 432x288 with 1 Axes>"
      ]
     },
     "metadata": {
      "needs_background": "light"
     },
     "output_type": "display_data"
    }
   ],
   "source": [
    "plot1 = plt.figure(1)\n",
    "plt.scatter(reshapingData['Distance_to_sc'],reshapingData['price'])\n",
    "plt.xlabel('Distance_to_sc')\n",
    "plt.ylabel('Price')\n",
    "plt.title('Figure 1. Price ~ SC')\n",
    "\n",
    "plot2 = plt.figure(2)\n",
    "plt.scatter(reshapingData['Distance_to_hospital'],reshapingData['price'])\n",
    "plt.xlabel('Distance_to_hospital')\n",
    "plt.ylabel('Price')\n",
    "plt.title('Figure 2. Price ~ Hospital')\n",
    "\n",
    "plot3 = plt.figure(3)\n",
    "plt.scatter(reshapingData['travel_min_to_CBD'],reshapingData['price'])\n",
    "plt.xlabel('travel_min_to_CBD')\n",
    "plt.ylabel('Price')\n",
    "plt.title('Figure 3. Price ~ CBD')\n",
    "\n",
    "plt.tight_layout()"
   ]
  },
  {
   "cell_type": "markdown",
   "metadata": {},
   "source": [
    "So far, none of the scatter plots shows a clear linear relationship between the features and the target variable. However, it is very clear that the ``Price`` and ``Distance_to_hospital`` are not directly linearly related to another, but we can definitely see a curvy linear relationship.\n",
    "\n",
    "This is due the fact that both variables are heavily skewed to the right, and thus is portraying a shape similar to a power-law function. Similarly, the data points in Figure 1 and Figure 3 are all clustered heavily around the lower area of y-axis due to the fact that ``price`` is heavily skewed to the right. To check the linearity of the features to the target variables, I applied log-log transformation to $Price \\sim Hospital$."
   ]
  },
  {
   "cell_type": "code",
   "execution_count": 89,
   "metadata": {},
   "outputs": [
    {
     "name": "stderr",
     "output_type": "stream",
     "text": [
      "/Users/dahyekim/opt/anaconda3/lib/python3.7/site-packages/ipykernel_launcher.py:1: SettingWithCopyWarning: \n",
      "A value is trying to be set on a copy of a slice from a DataFrame.\n",
      "Try using .loc[row_indexer,col_indexer] = value instead\n",
      "\n",
      "See the caveats in the documentation: https://pandas.pydata.org/pandas-docs/stable/user_guide/indexing.html#returning-a-view-versus-a-copy\n",
      "  \"\"\"Entry point for launching an IPython kernel.\n",
      "/Users/dahyekim/opt/anaconda3/lib/python3.7/site-packages/ipykernel_launcher.py:3: SettingWithCopyWarning: \n",
      "A value is trying to be set on a copy of a slice from a DataFrame.\n",
      "Try using .loc[row_indexer,col_indexer] = value instead\n",
      "\n",
      "See the caveats in the documentation: https://pandas.pydata.org/pandas-docs/stable/user_guide/indexing.html#returning-a-view-versus-a-copy\n",
      "  This is separate from the ipykernel package so we can avoid doing imports until\n"
     ]
    }
   ],
   "source": [
    "reshapingData['log_price'] = reshapingData['price'].apply(lambda x: np.log(x))\n",
    "# applying natural logarithm to price \n",
    "reshapingData['log_hosp'] = reshapingData['Distance_to_hospital'].apply(lambda x: np.log(x))\n",
    "# applying natural logarithm to Distance_to_hospital"
   ]
  },
  {
   "cell_type": "code",
   "execution_count": 90,
   "metadata": {},
   "outputs": [
    {
     "data": {
      "text/plain": [
       "Text(0.5, 1.0, 'Distribution of Residuals from Log-Log transformed Model')"
      ]
     },
     "execution_count": 90,
     "metadata": {},
     "output_type": "execute_result"
    },
    {
     "data": {
      "image/png": "[encoded data removed]",
      "text/plain": [
       "<Figure size 432x288 with 1 Axes>"
      ]
     },
     "metadata": {
      "needs_background": "light"
     },
     "output_type": "display_data"
    },
    {
     "data": {
      "image/png": "[encoded data removed]",
      "text/plain": [
       "<Figure size 432x288 with 1 Axes>"
      ]
     },
     "metadata": {
      "needs_background": "light"
     },
     "output_type": "display_data"
    },
    {
     "data": {
      "image/png": "[encoded data removed]",
      "text/plain": [
       "<Figure size 432x288 with 1 Axes>"
      ]
     },
     "metadata": {
      "needs_background": "light"
     },
     "output_type": "display_data"
    }
   ],
   "source": [
    "plot1 = plt.figure(1)\n",
    "plt.scatter(reshapingData['log_hosp'],reshapingData['log_price'])\n",
    "# scatter plot of Distance_to_hospital and price after applying logarithm to both variables\n",
    "plt.title('Log-price ~ Log-Distance_to_hospital')\n",
    "plt.xlabel('log(Distance_to_Hospital)')\n",
    "plt.ylabel('log(Price)')\n",
    "\n",
    "\n",
    "reg = LinearRegression().fit(reshapingData[['log_hosp']],reshapingData['log_price'])\n",
    "# create a linear regression fit between log-price and log-Distance_to_hospital\n",
    "y_predicted = reg.predict(reshapingData[['log_hosp']])\n",
    "# predicted log-price from the linear regression model\n",
    "\n",
    "plot2 = plt.figure(2)\n",
    "plt.plot(reshapingData['log_price'] - y_predicted, 'o', color='black')\n",
    "# scatter plot of the residuals \n",
    "plt.title('Log-Log Residual Plot')\n",
    "\n",
    "plot3 = plt.figure(3)\n",
    "plt.hist(reshapingData['log_price'] - y_predicted)\n",
    "# historgram of the residuals\n",
    "plt.title('Distribution of Residuals from Log-Log transformed Model')"
   ]
  },
  {
   "cell_type": "markdown",
   "metadata": {},
   "source": [
    "After applying log-log transformation to $Price \\sim Hospital$, the relationship still does not look perfectly linear. We can see a slight negative correlation between two variables after applying the transformation, but the correlation does not seem too strong. To check the linearity between two transformed variables, I built a simple linear regression between them and created a residual plot using the residual between the predicted $\\log{Price}$ and the true $\\log{Price}$. From the residual plot, we can see that the centre of the residuals is located at zero, with some outliers outside of the Cook's distance. The historgram portraying the distribution of the residual further proves that the centre of the residuals is at $0$, and the distribution follows Gaussian distribution with some 'fat tails' at both ends. This could be due to the outliers within both variables that the model could not predict correctly. Through this, we can say that the ``distance_to_Hospital`` does satisfy the linearity assumption against ``price``. "
   ]
  },
  {
   "cell_type": "markdown",
   "metadata": {},
   "source": [
    "## 2.2 Normality Assumption - Transformation\n",
    "\n",
    "The transformation of predictor and target variables all affect their shape of the distributions. This is espeically helpful when we need to check the normality of the variables involved in the model. If the distribution of the data points are skewed to the right, we can apply either square-root or log transformation of the variable to check if it becomes more normally distributed. Otherwise, if the distribution is heavily skewed to the left, we can apply either power function or polynomial funciton. \n",
    "\n",
    "To start with, I used histogram to visualise the distribution of all the predictor variables and the target variable."
   ]
  },
  {
   "cell_type": "code",
   "execution_count": 91,
   "metadata": {},
   "outputs": [
    {
     "data": {
      "image/png": "[encoded data removed]",
      "text/plain": [
       "<Figure size 432x288 with 4 Axes>"
      ]
     },
     "metadata": {
      "needs_background": "light"
     },
     "output_type": "display_data"
    }
   ],
   "source": [
    "fig, axs = plt.subplots(2, 2)\n",
    "\n",
    "axs[0,0].hist(reshapingData['Distance_to_sc'])\n",
    "axs[0,0].set_title('Distrance_to_shopping_centre')\n",
    "\n",
    "axs[0,1].hist(reshapingData['Distance_to_hospital'])\n",
    "axs[0,1].set_title('Distance_to_hospital')\n",
    "\n",
    "axs[1,0].hist(reshapingData['travel_min_to_CBD'])\n",
    "axs[1,0].set_title('travel_min_to_CBD')\n",
    "\n",
    "axs[1,1].hist(reshapingData['price'])\n",
    "axs[1,1].set_title('price')\n",
    "\n",
    "plt.tight_layout()"
   ]
  },
  {
   "cell_type": "markdown",
   "metadata": {},
   "source": [
    "The distribution of ``Distance_to_sc``, ``Distance_to_hospital``, and ``price`` are skewed to the right. Especially the latter two variables are heavily skewed to the right side. This could mean that the data points are following either a power or exponential function. To 'normalise' the distribution, we apply inverse function of the forementioned functions. Considering that the aforementioned functions look identical, we need to try out the inverse of both functions to the heavily-right-skewed graphs. Therefore, to satisfy the normality assumption of linear regression model, I applied log-transformation and square-root-transformation to ``Distance_to_sc``, ``Distance_to_hospital``, and ``price``. The distribution of ``travel_min_to_CBD``, on the other hand, looks rather normal and thus do not need to go through particular transformations."
   ]
  },
  {
   "cell_type": "markdown",
   "metadata": {},
   "source": [
    "### 2.2.1. Tranforming ``price``"
   ]
  },
  {
   "cell_type": "code",
   "execution_count": 92,
   "metadata": {},
   "outputs": [],
   "source": [
    "logPrice = reshapingData['log_price']\n",
    "# data points in 'price' after applying natural logarithm\n",
    "sqrtPrice = reshapingData['price'].apply(lambda x: sqrt(x))\n",
    "# applying square root to the 'price' column"
   ]
  },
  {
   "cell_type": "code",
   "execution_count": 93,
   "metadata": {},
   "outputs": [
    {
     "data": {
      "image/png": "[encoded data removed]",
      "text/plain": [
       "<Figure size 432x288 with 4 Axes>"
      ]
     },
     "metadata": {
      "needs_background": "light"
     },
     "output_type": "display_data"
    }
   ],
   "source": [
    "fig, axs = plt.subplots(2, 2)\n",
    "\n",
    "axs[0,0].hist(reshapingData['price'])\n",
    "axs[0,0].set_title('Price - before Transformation')\n",
    "\n",
    "axs[0,1].hist(sqrtPrice)\n",
    "axs[0,1].set_title('Price - Square Root Transformation')\n",
    "\n",
    "axs[1,0].hist(logPrice)\n",
    "axs[1,0].set_title('Price - Log Transformation')\n",
    "\n",
    "plt.tight_layout()"
   ]
  },
  {
   "cell_type": "markdown",
   "metadata": {},
   "source": [
    "After applying the tranformation, I plot out all the transformed variables with histograms. The ``price`` variables after applying **logarithm** function looks definitely normal compared to two former graphs. Therefore, the ``price`` variable after applying logarithmic function satisfies the normality assumption. "
   ]
  },
  {
   "cell_type": "markdown",
   "metadata": {},
   "source": [
    "### 2.2.2 Transforming ``Distance_to_sc``"
   ]
  },
  {
   "cell_type": "code",
   "execution_count": 94,
   "metadata": {},
   "outputs": [],
   "source": [
    "logSc = reshapingData['Distance_to_sc'].apply(lambda x: np.log(x))\n",
    "# applying natural log funciton to data points in 'Distance_to_sc' attribute \n",
    "sqrtSc = reshapingData['Distance_to_sc'].apply(lambda x: sqrt(x))\n",
    "# applying square root to the same attribute "
   ]
  },
  {
   "cell_type": "code",
   "execution_count": 95,
   "metadata": {},
   "outputs": [
    {
     "data": {
      "image/png": "[encoded data removed]",
      "text/plain": [
       "<Figure size 432x288 with 4 Axes>"
      ]
     },
     "metadata": {
      "needs_background": "light"
     },
     "output_type": "display_data"
    }
   ],
   "source": [
    "fig, axs = plt.subplots(2, 2)\n",
    "\n",
    "axs[0,0].hist(reshapingData['Distance_to_sc'])\n",
    "axs[0,0].set_title('SC - Before Transformation')\n",
    "\n",
    "axs[0,1].hist(sqrtSc)\n",
    "axs[0,1].set_title('SC - Square Root Transformation')\n",
    "\n",
    "axs[1,0].hist(logSc)\n",
    "axs[1,0].set_title('SC - Log Transformation')\n",
    "\n",
    "plt.tight_layout()"
   ]
  },
  {
   "cell_type": "markdown",
   "metadata": {},
   "source": [
    "After applying the tranformation, I plot out all the transformed variables with histograms. The ``Distance_to_sc`` variable after applying **square root** function looks definitely normal compared to other two graphs. Therefore, the ``Distance_to_sc`` variable after applying square root function satisfies the normality assumption. "
   ]
  },
  {
   "cell_type": "markdown",
   "metadata": {},
   "source": [
    "### 2.2.3 Transformoing ``Distance_to_hospital``"
   ]
  },
  {
   "cell_type": "code",
   "execution_count": 96,
   "metadata": {},
   "outputs": [],
   "source": [
    "logHosp = reshapingData['Distance_to_hospital'].apply(lambda x: np.log(x))\n",
    "# applying natural logarithm to Distance_to_hospital\n",
    "sqrtHosp = reshapingData['Distance_to_hospital'].apply(lambda x: sqrt(x))\n",
    "# applying square root to Distance_to_hospital "
   ]
  },
  {
   "cell_type": "code",
   "execution_count": 97,
   "metadata": {},
   "outputs": [
    {
     "data": {
      "image/png": "[encoded data removed]",
      "text/plain": [
       "<Figure size 432x288 with 4 Axes>"
      ]
     },
     "metadata": {
      "needs_background": "light"
     },
     "output_type": "display_data"
    }
   ],
   "source": [
    "fig, axs = plt.subplots(2, 2)\n",
    "\n",
    "axs[0,0].hist(reshapingData['Distance_to_hospital'])\n",
    "axs[0,0].set_title('Hospital - Log Transformation')\n",
    "\n",
    "axs[0,1].hist(sqrtHosp)\n",
    "axs[0,1].set_title('Hospital - Square Root Transformation')\n",
    "\n",
    "axs[1,0].hist(logHosp)\n",
    "axs[1,0].set_title('Hospital - Log Transformation')\n",
    "\n",
    "plt.tight_layout()"
   ]
  },
  {
   "cell_type": "markdown",
   "metadata": {},
   "source": [
    "For ``Distance_to_Hospital``, the distribution of the transformed variables definitely look closer to Gaussian distribution than the original data points. However, unlike the other attributes above, the ``Distance_to_Hospital`` after both transformations does not show a clear normal distributions. To further explore the distribution of the two transformed variables, I used QQplot to check which one is 'closer' to a normal distribution. "
   ]
  },
  {
   "cell_type": "code",
   "execution_count": 98,
   "metadata": {},
   "outputs": [
    {
     "data": {
      "text/plain": [
       "<Figure size 432x288 with 0 Axes>"
      ]
     },
     "metadata": {},
     "output_type": "display_data"
    },
    {
     "data": {
      "image/png": "[encoded data removed]",
      "text/plain": [
       "<Figure size 432x288 with 1 Axes>"
      ]
     },
     "metadata": {
      "needs_background": "light"
     },
     "output_type": "display_data"
    },
    {
     "data": {
      "text/plain": [
       "<Figure size 432x288 with 0 Axes>"
      ]
     },
     "metadata": {},
     "output_type": "display_data"
    },
    {
     "data": {
      "image/png": "[encoded data removed]",
      "text/plain": [
       "<Figure size 432x288 with 1 Axes>"
      ]
     },
     "metadata": {
      "needs_background": "light"
     },
     "output_type": "display_data"
    },
    {
     "data": {
      "text/plain": [
       "<Figure size 432x288 with 0 Axes>"
      ]
     },
     "metadata": {},
     "output_type": "display_data"
    },
    {
     "data": {
      "image/png": "[encoded data removed]",
      "text/plain": [
       "<Figure size 432x288 with 1 Axes>"
      ]
     },
     "metadata": {
      "needs_background": "light"
     },
     "output_type": "display_data"
    }
   ],
   "source": [
    "plot1 = plt.figure(1)\n",
    "qqplot(reshapingData['Distance_to_hospital'],line='s')\n",
    "plt.title('Figure 1. Hospital - Original Distribution')\n",
    "plt.show()\n",
    "\n",
    "plot3 = plt.figure(3)\n",
    "qqplot(sqrtHosp,line='s')\n",
    "plt.title('Figure 2. Hospital - SquareRoot Transformation')\n",
    "plt.show()\n",
    "\n",
    "plot2 = plt.figure(2)\n",
    "qqplot(logHosp,line='s')\n",
    "plt.title('Figure 3. Hospital - Log Transformation')\n",
    "plt.show()"
   ]
  },
  {
   "cell_type": "markdown",
   "metadata": {},
   "source": [
    "In the QQplots above, the red line is a representation of a perfectly normal distribution. The more the data points are aligned to the red line, the more normal the distribution of an attribute. The two ends of the blue dots that deviate from the red lines implies possible outliers in the data set. If the data points on two ends of the blue dot sare at the right side of the red line, the distribution is skewed to the right, and vice versa. If the blue dots are deviating at both ends of the red line, the distribution of the data points are accompanied by 'fat tails', which implies outliers at both sides of the tail. \n",
    "\n",
    "Based on the QQplot of the ``Distance_to_hospital`` before and after two transformations, we can see that the data points in Figure 3 is more aligned with the red dots, despite its skewness to the right. Figure 2 implies outliers at both ends of the curve, yet the distribution is not as normal as that of Figure 3. Therefore, we can assume that the logarithmic transformation of ``Disntance_to_hospital`` is closer to 'normal'. "
   ]
  },
  {
   "cell_type": "code",
   "execution_count": 99,
   "metadata": {},
   "outputs": [
    {
     "data": {
      "image/png": "[encoded data removed]",
      "text/plain": [
       "<Figure size 432x288 with 4 Axes>"
      ]
     },
     "metadata": {
      "needs_background": "light"
     },
     "output_type": "display_data"
    }
   ],
   "source": [
    "fig, axs = plt.subplots(2, 2)\n",
    "\n",
    "axs[0,0].hist(logPrice)\n",
    "axs[0,0].set_title('Price - Log Transformation')\n",
    "\n",
    "axs[0,1].hist(sqrtSc)\n",
    "axs[0,1].set_title('SC - Square Root Transformation')\n",
    "\n",
    "axs[1,0].hist(logHosp)\n",
    "axs[1,0].set_title('Hospital - Log Transformation')\n",
    "\n",
    "axs[1,1].hist(reshapingData['travel_min_to_CBD'])\n",
    "axs[1,1].set_title('travel_min_to_CBD')\n",
    "\n",
    "plt.tight_layout()"
   ]
  },
  {
   "cell_type": "markdown",
   "metadata": {},
   "source": [
    "With each trasnsformation above, the distribution of four attributes look much closer to the normal distribution than before. This satisfies the assumption of normality of all variables involved in the linear regression model that we are planning to build."
   ]
  },
  {
   "cell_type": "code",
   "execution_count": 100,
   "metadata": {},
   "outputs": [
    {
     "name": "stderr",
     "output_type": "stream",
     "text": [
      "/Users/dahyekim/opt/anaconda3/lib/python3.7/site-packages/ipykernel_launcher.py:1: SettingWithCopyWarning: \n",
      "A value is trying to be set on a copy of a slice from a DataFrame.\n",
      "Try using .loc[row_indexer,col_indexer] = value instead\n",
      "\n",
      "See the caveats in the documentation: https://pandas.pydata.org/pandas-docs/stable/user_guide/indexing.html#returning-a-view-versus-a-copy\n",
      "  \"\"\"Entry point for launching an IPython kernel.\n",
      "/Users/dahyekim/opt/anaconda3/lib/python3.7/site-packages/ipykernel_launcher.py:2: SettingWithCopyWarning: \n",
      "A value is trying to be set on a copy of a slice from a DataFrame.\n",
      "Try using .loc[row_indexer,col_indexer] = value instead\n",
      "\n",
      "See the caveats in the documentation: https://pandas.pydata.org/pandas-docs/stable/user_guide/indexing.html#returning-a-view-versus-a-copy\n",
      "  \n"
     ]
    }
   ],
   "source": [
    "reshapingData['sqrt_SC'] = sqrtSc\n",
    "reshapingData['log_hosp'] = logHosp"
   ]
  },
  {
   "cell_type": "markdown",
   "metadata": {},
   "source": [
    "## 2.3 Scaling\n",
    "\n",
    "Scaling in a linear regression model is taken into account in the parameter prediction process. In a linear regression model, the prediction in the model is **not** affected greatly due to the scale. However, the prediction in the parameter will change.\n",
    "\n",
    "In a linear regression model, the regression coefficient carries two distinct meanings - <b>weight/importance</b> of the predictor and the <b>scale</b> of the predictor. Without scaling, the importance of the predictor could be undermined or overestimated. In a linear regression model, we aim to <em>minimise</em> the role <b>scale</b> takes in the regression coefficient. Additionally, without scaling, the regression coefficients of some important predictors could be minimised drastically, until it become close to $0$. This could drastically reduce the <em>significance</em> of a predictor (We might not be able to reject hypothesis testing $H_0$ : $\\beta_0 = 0$, if the regression coefficient gets closer and closer to $0$ if not scaled). Such shortcomings could be avoided via scaling the attribute before building a model.\n",
    "\n",
    "We consider two scaling methods in this case - standardisation using z-score and MinMax normalisation. The standardisation method 'standardises' the distribution of the data set with $\\mu = 0, \\sigma = 1$, while the MinMax scaling fits the range of the data into a set interval based on the problem domain. \n",
    "\n",
    "Scaling is implemented after transforming the predictor and target attributes."
   ]
  },
  {
   "cell_type": "code",
   "execution_count": 101,
   "metadata": {},
   "outputs": [],
   "source": [
    "mmScale = preprocessing.\\\n",
    "MinMaxScaler().\\\n",
    "fit(reshapingData[['sqrt_SC','travel_min_to_CBD','log_hosp']])\n",
    "# fit the predictor attributes to MinMax normalisation\n",
    "mm_dist = mmScale.transform(reshapingData[['sqrt_SC','travel_min_to_CBD','log_hosp']])\n",
    "# scaling three predictor variables with MinMax scaling"
   ]
  },
  {
   "cell_type": "code",
   "execution_count": 102,
   "metadata": {},
   "outputs": [
    {
     "data": {
      "text/plain": [
       "array([[0.54937415, 0.32786885, 0.76436849],\n",
       "       [0.53206369, 0.68852459, 0.5439109 ],\n",
       "       [0.62675176, 0.24590164, 0.68446392],\n",
       "       [0.57711216, 0.3442623 , 0.61431472],\n",
       "       [0.58331482, 0.90163934, 0.80468681],\n",
       "       [0.54207453, 0.37704918, 0.65053191],\n",
       "       [0.59023481, 0.59016393, 0.75643441],\n",
       "       [0.47463176, 0.55737705, 0.69081854],\n",
       "       [0.74991904, 0.3442623 , 0.49107098]])"
      ]
     },
     "execution_count": 102,
     "metadata": {},
     "output_type": "execute_result"
    }
   ],
   "source": [
    "mm_dist[1:10]"
   ]
  },
  {
   "cell_type": "code",
   "execution_count": 103,
   "metadata": {},
   "outputs": [
    {
     "name": "stderr",
     "output_type": "stream",
     "text": [
      "/Users/dahyekim/opt/anaconda3/lib/python3.7/site-packages/ipykernel_launcher.py:1: SettingWithCopyWarning: \n",
      "A value is trying to be set on a copy of a slice from a DataFrame.\n",
      "Try using .loc[row_indexer,col_indexer] = value instead\n",
      "\n",
      "See the caveats in the documentation: https://pandas.pydata.org/pandas-docs/stable/user_guide/indexing.html#returning-a-view-versus-a-copy\n",
      "  \"\"\"Entry point for launching an IPython kernel.\n",
      "/Users/dahyekim/opt/anaconda3/lib/python3.7/site-packages/ipykernel_launcher.py:2: SettingWithCopyWarning: \n",
      "A value is trying to be set on a copy of a slice from a DataFrame.\n",
      "Try using .loc[row_indexer,col_indexer] = value instead\n",
      "\n",
      "See the caveats in the documentation: https://pandas.pydata.org/pandas-docs/stable/user_guide/indexing.html#returning-a-view-versus-a-copy\n",
      "  \n",
      "/Users/dahyekim/opt/anaconda3/lib/python3.7/site-packages/ipykernel_launcher.py:3: SettingWithCopyWarning: \n",
      "A value is trying to be set on a copy of a slice from a DataFrame.\n",
      "Try using .loc[row_indexer,col_indexer] = value instead\n",
      "\n",
      "See the caveats in the documentation: https://pandas.pydata.org/pandas-docs/stable/user_guide/indexing.html#returning-a-view-versus-a-copy\n",
      "  This is separate from the ipykernel package so we can avoid doing imports until\n"
     ]
    }
   ],
   "source": [
    "reshapingData['mm_sc'] = mm_dist[:,0]\n",
    "reshapingData['mm_cbd'] = mm_dist[:,1]\n",
    "reshapingData['mm_hosp'] = mm_dist[:,2]\n",
    "# create scaled variables"
   ]
  },
  {
   "cell_type": "code",
   "execution_count": 104,
   "metadata": {},
   "outputs": [],
   "source": [
    "zScale = preprocessing.\\\n",
    "StandardScaler().\\\n",
    "fit(reshapingData[['sqrt_SC','travel_min_to_CBD','log_hosp']])\n",
    "# fit the predictor variables into standardised scale \n",
    "z_dist = zScale.transform(reshapingData[['sqrt_SC','travel_min_to_CBD','log_hosp']])\n",
    "# scaling three predictor variables with MinMax scaling"
   ]
  },
  {
   "cell_type": "code",
   "execution_count": 105,
   "metadata": {},
   "outputs": [
    {
     "data": {
      "text/plain": [
       "array([[-0.00769054, -1.04706904,  0.75953337],\n",
       "       [-0.08948055,  0.65149596, -0.61632866],\n",
       "       [ 0.35791013, -1.43310654,  0.26085396],\n",
       "       [ 0.12336849, -0.96986154, -0.17694281],\n",
       "       [ 0.15267538,  1.65519345,  1.01115746],\n",
       "       [-0.04218045, -0.81544654,  0.04908638],\n",
       "       [ 0.18537157,  0.18825096,  0.71001728],\n",
       "       [-0.36084006,  0.03383596,  0.30051271],\n",
       "       [ 0.93986188, -0.96986154, -0.94609929]])"
      ]
     },
     "execution_count": 105,
     "metadata": {},
     "output_type": "execute_result"
    }
   ],
   "source": [
    "z_dist[1:10]"
   ]
  },
  {
   "cell_type": "code",
   "execution_count": 106,
   "metadata": {},
   "outputs": [
    {
     "name": "stderr",
     "output_type": "stream",
     "text": [
      "/Users/dahyekim/opt/anaconda3/lib/python3.7/site-packages/ipykernel_launcher.py:1: SettingWithCopyWarning: \n",
      "A value is trying to be set on a copy of a slice from a DataFrame.\n",
      "Try using .loc[row_indexer,col_indexer] = value instead\n",
      "\n",
      "See the caveats in the documentation: https://pandas.pydata.org/pandas-docs/stable/user_guide/indexing.html#returning-a-view-versus-a-copy\n",
      "  \"\"\"Entry point for launching an IPython kernel.\n",
      "/Users/dahyekim/opt/anaconda3/lib/python3.7/site-packages/ipykernel_launcher.py:2: SettingWithCopyWarning: \n",
      "A value is trying to be set on a copy of a slice from a DataFrame.\n",
      "Try using .loc[row_indexer,col_indexer] = value instead\n",
      "\n",
      "See the caveats in the documentation: https://pandas.pydata.org/pandas-docs/stable/user_guide/indexing.html#returning-a-view-versus-a-copy\n",
      "  \n",
      "/Users/dahyekim/opt/anaconda3/lib/python3.7/site-packages/ipykernel_launcher.py:3: SettingWithCopyWarning: \n",
      "A value is trying to be set on a copy of a slice from a DataFrame.\n",
      "Try using .loc[row_indexer,col_indexer] = value instead\n",
      "\n",
      "See the caveats in the documentation: https://pandas.pydata.org/pandas-docs/stable/user_guide/indexing.html#returning-a-view-versus-a-copy\n",
      "  This is separate from the ipykernel package so we can avoid doing imports until\n"
     ]
    }
   ],
   "source": [
    "reshapingData['z_sc'] = z_dist[:,0]\n",
    "reshapingData['z_cbd'] = z_dist[:,1]\n",
    "reshapingData['z_hosp'] = z_dist[:,2]\n",
    "# create standardised variables"
   ]
  },
  {
   "cell_type": "code",
   "execution_count": 107,
   "metadata": {},
   "outputs": [
    {
     "data": {
      "image/png": "[encoded data removed]",
      "text/plain": [
       "<Figure size 432x288 with 6 Axes>"
      ]
     },
     "metadata": {
      "needs_background": "light"
     },
     "output_type": "display_data"
    }
   ],
   "source": [
    "fig, axs = plt.subplots(3, 2)\n",
    "\n",
    "axs[0,0].plot(reshapingData['z_sc'])\n",
    "axs[0,0].set_title('SC - Standardisation')\n",
    "\n",
    "axs[0,1].plot(reshapingData['mm_sc'])\n",
    "axs[0,1].set_title('SC - MinMax')\n",
    "\n",
    "axs[1,0].plot(reshapingData['z_cbd'])\n",
    "axs[1,0].set_title('CBD - Standardisation')\n",
    "\n",
    "axs[1,1].plot(reshapingData['mm_cbd'])\n",
    "axs[1,1].set_title('CBD - MinMax')\n",
    "\n",
    "axs[2,0].plot(reshapingData['z_hosp'])\n",
    "axs[2,0].set_title('Hospital - Standardisation')\n",
    "\n",
    "axs[2,1].plot(reshapingData['mm_hosp'])\n",
    "axs[2,1].set_title('Hospital - MinMax')\n",
    "\n",
    "plt.tight_layout()"
   ]
  },
  {
   "cell_type": "code",
   "execution_count": 108,
   "metadata": {},
   "outputs": [
    {
     "data": {
      "text/plain": [
       "<Figure size 432x288 with 0 Axes>"
      ]
     },
     "metadata": {},
     "output_type": "display_data"
    },
    {
     "data": {
      "image/png": "[encoded data removed]",
      "text/plain": [
       "<Figure size 432x288 with 1 Axes>"
      ]
     },
     "metadata": {
      "needs_background": "light"
     },
     "output_type": "display_data"
    },
    {
     "data": {
      "text/plain": [
       "<Figure size 432x288 with 0 Axes>"
      ]
     },
     "metadata": {},
     "output_type": "display_data"
    },
    {
     "data": {
      "image/png": "[encoded data removed]",
      "text/plain": [
       "<Figure size 432x288 with 1 Axes>"
      ]
     },
     "metadata": {
      "needs_background": "light"
     },
     "output_type": "display_data"
    },
    {
     "data": {
      "text/plain": [
       "<Figure size 432x288 with 0 Axes>"
      ]
     },
     "metadata": {},
     "output_type": "display_data"
    },
    {
     "data": {
      "image/png": "[encoded data removed]",
      "text/plain": [
       "<Figure size 432x288 with 1 Axes>"
      ]
     },
     "metadata": {
      "needs_background": "light"
     },
     "output_type": "display_data"
    }
   ],
   "source": [
    "plot1 = plt.figure(1)\n",
    "qqplot(reshapingData['travel_min_to_CBD'],line='s')\n",
    "plt.title('Figure 1. travel_min_to_CBD')\n",
    "plt.show()\n",
    "\n",
    "plot3 = plt.figure(3)\n",
    "qqplot(sqrtSc,line='s')\n",
    "plt.title('Figure 2. SC - SquareRoot Transformation')\n",
    "plt.show()\n",
    "\n",
    "plot2 = plt.figure(2)\n",
    "qqplot(logHosp,line='s')\n",
    "plt.title('Figure 3. Hospital - Log Transformation')\n",
    "plt.show()"
   ]
  },
  {
   "cell_type": "markdown",
   "metadata": {},
   "source": [
    "As shown in the graph above, the distribution of the respective attributes are not changed. However, the key difference between the normalisation and the standardisation is the range/interval of the attributes. The standardised attributes are distributed with the centre at $0$ but different range, while the normalised attributes are remained within the same interval of $[0,1]$. Despite the shape transformation process, we can still see the skewness in the distribution of ``Distance_to_hospital`` attribute. Additionally, based on the histograms of all the transformed attributes and the QQplots above, the variance of the attributes varies and each transformed attributes are accompanied by outliers. In this case, standardisation could be a better choice for us since it does not suppress the effect of outliers in our dataset and maintains the variance level of each attribute. "
   ]
  },
  {
   "cell_type": "markdown",
   "metadata": {},
   "source": [
    "# Conclusion \n",
    "\n",
    "The program first parsed two data frames in ``json`` and ``xml`` format into a readable data frame and concatenated the parsed data frame into one. Before starting filling out new information, duplicated rows were removed based on the unique ``property_id``. Then the distance between each property and its nearest supermarket, shopping centre, train station, and hospital were obtained and calculated. The geographical coordinates and ID of each location were saved in data frame from different files in various format and they were parsed using appropriate librarie and functions. Then the suburb of the property was obtained using the geographical shape file, where all the suburbs of Victoria and their geographical coordinates were saved. The travel time from each properties to Melbourne City via train were also obtained, and this was achieved by exploring and merging data frames with information on routes, trips, stoptimes, and service operation hours of each train service line. After integrating the data, the data was prepared for building a multiregression model that predicts ``price`` attribute using ``distance_to_sc``, ``distance_to_hospital``, and ``travel_min_to_CBD``. To satisfy the linearity and normality assumption for the multiple regression mode, data transformation, linearity transformation, and standardisation on scaling were implemented."
   ]
  },
  {
   "cell_type": "markdown",
   "metadata": {},
   "source": [
    "# Bibliography \n",
    "\n",
    "Haversine Formula in Python (Bearing and Distance between two GPS points). (2011, February 6). Stack Overflow. https://stackoverflow.com/questions/4913349/haversine-formula-in-python-bearing-and-distance-between-two-gps-points"
   ]
  }
 ],
 "metadata": {
  "kernelspec": {
   "display_name": "Python 3",
   "language": "python",
   "name": "python3"
  },
  "language_info": {
   "codemirror_mode": {
    "name": "ipython",
    "version": 3
   },
   "file_extension": ".py",
   "mimetype": "text/x-python",
   "name": "python",
   "nbconvert_exporter": "python",
   "pygments_lexer": "ipython3",
   "version": "3.8.5"
  }
 },
 "nbformat": 4,
 "nbformat_minor": 4
}
